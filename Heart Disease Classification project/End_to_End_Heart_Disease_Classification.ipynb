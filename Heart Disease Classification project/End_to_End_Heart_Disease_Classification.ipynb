{
 "cells": [
  {
   "cell_type": "markdown",
   "metadata": {},
   "source": [
    "## Predicting Heart Disease\n",
    "This notebook looks into using Python based machine learning and data science libraries to build a machine learning model capable of predicting whether or not someone has a heart disease based on their medical attributes\n",
    "\n",
    "What will be done:\n",
    "1. Problem Definition\n",
    "2. Data\n",
    "3. Evaluation\n",
    "4. Features\n",
    "5. Modelling\n",
    "6. Experimentation\n",
    "\n",
    "## 1. Problem Definition\n",
    "Given the clinical parameters, can we predict if a person has heart disease or not?\n",
    "\n",
    "## 2. Data\n",
    "Open source data from one of the below sites\n",
    "https://www.kaggle.com/ronitf/heart-disease-uci\n",
    "https://archive.ics.uci.edu/ml/datasets/Heart+Disease (what is used in this exercise is Cleveland data from this site)\n",
    "\n",
    "## 3. Evaluation\n",
    "If we can reach 95% accuracy in determining if a person has heart disease or not, then the project may be pursued from proof of concept.\n",
    "\n",
    "## 4. Features\n",
    "This is where we get information about each feature of the data.\n",
    "\n",
    "Data Dictionary\n",
    "\n",
    "1. age: age in years\n",
    "2. sex: sex (1 = male; 0 = female)\n",
    "3. cp: chest pain type\n",
    "   Value 1: typical angina\n",
    "   Value 2: atypical angina\n",
    "   Value 3: non-anginal pain\n",
    "   Value 4: asymptomatic\n",
    "4. trestbps: resting blood pressure (in mm Hg on admission to the hospital)\n",
    "5. chol: serum cholestoral in mg/dl\n",
    "6. fbs: (fasting blood sugar > 120 mg/dl) (1 = true; 0 = false)\n",
    "7. restecg: resting electrocardiographic results\n",
    "     Value 0: normal\n",
    "     Value 1: having ST-T wave abnormality (T wave inversions and/or ST elevation or depression of > 0.05 mV)\n",
    "     Value 2: showing probable or definite left ventricular hypertrophy by Estes' criteria\n",
    "8. thalach: maximum heart rate achieved\n",
    "9. exang: exercise induced angina (1 = yes; 0 = no)\n",
    "10. oldpeak = ST depression induced by exercise relative to rest\n",
    "11. slope: the slope of the peak exercise ST segment\n",
    "     Value 1: upsloping\n",
    "     Value 2: flat\n",
    "     Value 3: downsloping\n",
    "12. ca: number of major vessels (0-3) colored by flourosopy (If colored means doctor can see blood flowing through the vessels)\n",
    "13. thal: 3 = normal; 6 = fixed defect; 7 = reversable defect\n",
    "14. target: diagnosis of heart disease (angiographic disease status) - predicted attribute\n",
    "     Value 0: < 50% diameter narrowing\n",
    "     Value 1: > 50% diameter narrowing"
   ]
  },
  {
   "cell_type": "markdown",
   "metadata": {},
   "source": [
    "## Preparing the tools\n",
    "Use Pandas, Matplotlib and numpy for data analysis and manipulation"
   ]
  },
  {
   "cell_type": "code",
   "execution_count": 2,
   "metadata": {},
   "outputs": [],
   "source": [
    "## import necessary tools\n",
    "\n",
    "## Regular exploratory data analysis (EDA) and plotting libraries \n",
    "import pandas as pd\n",
    "import numpy as np\n",
    "import matplotlib.pyplot as plt\n",
    "import seaborn as sns\n",
    "%matplotlib inline\n",
    "\n",
    "##import models\n",
    "from sklearn.linear_model import LogisticRegression\n",
    "from sklearn.neighbors import KNeighborsClassifier\n",
    "from sklearn.ensemble import RandomForestClassifier\n",
    "\n",
    "##import model evaluations\n",
    "from sklearn.model_selection import RandomizedSearchCV,GridSearchCV,train_test_split,cross_val_score\n",
    "from sklearn.metrics import classification_report,confusion_matrix,plot_roc_curve\n",
    "from sklearn.metrics import precision_score,recall_score,f1_score"
   ]
  },
  {
   "cell_type": "markdown",
   "metadata": {},
   "source": [
    "## Load Data"
   ]
  },
  {
   "cell_type": "code",
   "execution_count": 5,
   "metadata": {},
   "outputs": [
    {
     "data": {
      "text/html": [
       "<div>\n",
       "<style scoped>\n",
       "    .dataframe tbody tr th:only-of-type {\n",
       "        vertical-align: middle;\n",
       "    }\n",
       "\n",
       "    .dataframe tbody tr th {\n",
       "        vertical-align: top;\n",
       "    }\n",
       "\n",
       "    .dataframe thead th {\n",
       "        text-align: right;\n",
       "    }\n",
       "</style>\n",
       "<table border=\"1\" class=\"dataframe\">\n",
       "  <thead>\n",
       "    <tr style=\"text-align: right;\">\n",
       "      <th></th>\n",
       "      <th>age</th>\n",
       "      <th>sex</th>\n",
       "      <th>cp</th>\n",
       "      <th>trestbps</th>\n",
       "      <th>chol</th>\n",
       "      <th>fbs</th>\n",
       "      <th>restecg</th>\n",
       "      <th>thalach</th>\n",
       "      <th>exang</th>\n",
       "      <th>oldpeak</th>\n",
       "      <th>slope</th>\n",
       "      <th>ca</th>\n",
       "      <th>thal</th>\n",
       "      <th>target</th>\n",
       "    </tr>\n",
       "  </thead>\n",
       "  <tbody>\n",
       "    <tr>\n",
       "      <th>0</th>\n",
       "      <td>63</td>\n",
       "      <td>1</td>\n",
       "      <td>3</td>\n",
       "      <td>145</td>\n",
       "      <td>233</td>\n",
       "      <td>1</td>\n",
       "      <td>0</td>\n",
       "      <td>150</td>\n",
       "      <td>0</td>\n",
       "      <td>2.3</td>\n",
       "      <td>0</td>\n",
       "      <td>0</td>\n",
       "      <td>1</td>\n",
       "      <td>1</td>\n",
       "    </tr>\n",
       "    <tr>\n",
       "      <th>1</th>\n",
       "      <td>37</td>\n",
       "      <td>1</td>\n",
       "      <td>2</td>\n",
       "      <td>130</td>\n",
       "      <td>250</td>\n",
       "      <td>0</td>\n",
       "      <td>1</td>\n",
       "      <td>187</td>\n",
       "      <td>0</td>\n",
       "      <td>3.5</td>\n",
       "      <td>0</td>\n",
       "      <td>0</td>\n",
       "      <td>2</td>\n",
       "      <td>1</td>\n",
       "    </tr>\n",
       "    <tr>\n",
       "      <th>2</th>\n",
       "      <td>41</td>\n",
       "      <td>0</td>\n",
       "      <td>1</td>\n",
       "      <td>130</td>\n",
       "      <td>204</td>\n",
       "      <td>0</td>\n",
       "      <td>0</td>\n",
       "      <td>172</td>\n",
       "      <td>0</td>\n",
       "      <td>1.4</td>\n",
       "      <td>2</td>\n",
       "      <td>0</td>\n",
       "      <td>2</td>\n",
       "      <td>1</td>\n",
       "    </tr>\n",
       "    <tr>\n",
       "      <th>3</th>\n",
       "      <td>56</td>\n",
       "      <td>1</td>\n",
       "      <td>1</td>\n",
       "      <td>120</td>\n",
       "      <td>236</td>\n",
       "      <td>0</td>\n",
       "      <td>1</td>\n",
       "      <td>178</td>\n",
       "      <td>0</td>\n",
       "      <td>0.8</td>\n",
       "      <td>2</td>\n",
       "      <td>0</td>\n",
       "      <td>2</td>\n",
       "      <td>1</td>\n",
       "    </tr>\n",
       "    <tr>\n",
       "      <th>4</th>\n",
       "      <td>57</td>\n",
       "      <td>0</td>\n",
       "      <td>0</td>\n",
       "      <td>120</td>\n",
       "      <td>354</td>\n",
       "      <td>0</td>\n",
       "      <td>1</td>\n",
       "      <td>163</td>\n",
       "      <td>1</td>\n",
       "      <td>0.6</td>\n",
       "      <td>2</td>\n",
       "      <td>0</td>\n",
       "      <td>2</td>\n",
       "      <td>1</td>\n",
       "    </tr>\n",
       "  </tbody>\n",
       "</table>\n",
       "</div>"
      ],
      "text/plain": [
       "   age  sex  cp  trestbps  chol  fbs  restecg  thalach  exang  oldpeak  slope  \\\n",
       "0   63    1   3       145   233    1        0      150      0      2.3      0   \n",
       "1   37    1   2       130   250    0        1      187      0      3.5      0   \n",
       "2   41    0   1       130   204    0        0      172      0      1.4      2   \n",
       "3   56    1   1       120   236    0        1      178      0      0.8      2   \n",
       "4   57    0   0       120   354    0        1      163      1      0.6      2   \n",
       "\n",
       "   ca  thal  target  \n",
       "0   0     1       1  \n",
       "1   0     2       1  \n",
       "2   0     2       1  \n",
       "3   0     2       1  \n",
       "4   0     2       1  "
      ]
     },
     "execution_count": 5,
     "metadata": {},
     "output_type": "execute_result"
    }
   ],
   "source": [
    "df = pd.read_csv(\"heart-disease.csv\")\n",
    "df.head()"
   ]
  },
  {
   "cell_type": "code",
   "execution_count": 6,
   "metadata": {},
   "outputs": [
    {
     "data": {
      "text/plain": [
       "(303, 14)"
      ]
     },
     "execution_count": 6,
     "metadata": {},
     "output_type": "execute_result"
    }
   ],
   "source": [
    "df.shape"
   ]
  },
  {
   "cell_type": "markdown",
   "metadata": {},
   "source": [
    "## Data Exploration (EDA)\n",
    "The goal is to find more about the data and become a subject matter expert on the data set\n",
    "\n",
    "1. What question(s) are we trying to solve\n",
    "2. What kind of data do we have and how do we treat different types\n",
    "3. What is missing from the data and how do we deal with it\n",
    "4. Where are the outliers and why should we care about them\n",
    "5. How can we add, change, remove features to get more from the data"
   ]
  },
  {
   "cell_type": "code",
   "execution_count": 8,
   "metadata": {},
   "outputs": [
    {
     "data": {
      "text/html": [
       "<div>\n",
       "<style scoped>\n",
       "    .dataframe tbody tr th:only-of-type {\n",
       "        vertical-align: middle;\n",
       "    }\n",
       "\n",
       "    .dataframe tbody tr th {\n",
       "        vertical-align: top;\n",
       "    }\n",
       "\n",
       "    .dataframe thead th {\n",
       "        text-align: right;\n",
       "    }\n",
       "</style>\n",
       "<table border=\"1\" class=\"dataframe\">\n",
       "  <thead>\n",
       "    <tr style=\"text-align: right;\">\n",
       "      <th></th>\n",
       "      <th>age</th>\n",
       "      <th>sex</th>\n",
       "      <th>cp</th>\n",
       "      <th>trestbps</th>\n",
       "      <th>chol</th>\n",
       "      <th>fbs</th>\n",
       "      <th>restecg</th>\n",
       "      <th>thalach</th>\n",
       "      <th>exang</th>\n",
       "      <th>oldpeak</th>\n",
       "      <th>slope</th>\n",
       "      <th>ca</th>\n",
       "      <th>thal</th>\n",
       "      <th>target</th>\n",
       "    </tr>\n",
       "  </thead>\n",
       "  <tbody>\n",
       "    <tr>\n",
       "      <th>298</th>\n",
       "      <td>57</td>\n",
       "      <td>0</td>\n",
       "      <td>0</td>\n",
       "      <td>140</td>\n",
       "      <td>241</td>\n",
       "      <td>0</td>\n",
       "      <td>1</td>\n",
       "      <td>123</td>\n",
       "      <td>1</td>\n",
       "      <td>0.2</td>\n",
       "      <td>1</td>\n",
       "      <td>0</td>\n",
       "      <td>3</td>\n",
       "      <td>0</td>\n",
       "    </tr>\n",
       "    <tr>\n",
       "      <th>299</th>\n",
       "      <td>45</td>\n",
       "      <td>1</td>\n",
       "      <td>3</td>\n",
       "      <td>110</td>\n",
       "      <td>264</td>\n",
       "      <td>0</td>\n",
       "      <td>1</td>\n",
       "      <td>132</td>\n",
       "      <td>0</td>\n",
       "      <td>1.2</td>\n",
       "      <td>1</td>\n",
       "      <td>0</td>\n",
       "      <td>3</td>\n",
       "      <td>0</td>\n",
       "    </tr>\n",
       "    <tr>\n",
       "      <th>300</th>\n",
       "      <td>68</td>\n",
       "      <td>1</td>\n",
       "      <td>0</td>\n",
       "      <td>144</td>\n",
       "      <td>193</td>\n",
       "      <td>1</td>\n",
       "      <td>1</td>\n",
       "      <td>141</td>\n",
       "      <td>0</td>\n",
       "      <td>3.4</td>\n",
       "      <td>1</td>\n",
       "      <td>2</td>\n",
       "      <td>3</td>\n",
       "      <td>0</td>\n",
       "    </tr>\n",
       "    <tr>\n",
       "      <th>301</th>\n",
       "      <td>57</td>\n",
       "      <td>1</td>\n",
       "      <td>0</td>\n",
       "      <td>130</td>\n",
       "      <td>131</td>\n",
       "      <td>0</td>\n",
       "      <td>1</td>\n",
       "      <td>115</td>\n",
       "      <td>1</td>\n",
       "      <td>1.2</td>\n",
       "      <td>1</td>\n",
       "      <td>1</td>\n",
       "      <td>3</td>\n",
       "      <td>0</td>\n",
       "    </tr>\n",
       "    <tr>\n",
       "      <th>302</th>\n",
       "      <td>57</td>\n",
       "      <td>0</td>\n",
       "      <td>1</td>\n",
       "      <td>130</td>\n",
       "      <td>236</td>\n",
       "      <td>0</td>\n",
       "      <td>0</td>\n",
       "      <td>174</td>\n",
       "      <td>0</td>\n",
       "      <td>0.0</td>\n",
       "      <td>1</td>\n",
       "      <td>1</td>\n",
       "      <td>2</td>\n",
       "      <td>0</td>\n",
       "    </tr>\n",
       "  </tbody>\n",
       "</table>\n",
       "</div>"
      ],
      "text/plain": [
       "     age  sex  cp  trestbps  chol  fbs  restecg  thalach  exang  oldpeak  \\\n",
       "298   57    0   0       140   241    0        1      123      1      0.2   \n",
       "299   45    1   3       110   264    0        1      132      0      1.2   \n",
       "300   68    1   0       144   193    1        1      141      0      3.4   \n",
       "301   57    1   0       130   131    0        1      115      1      1.2   \n",
       "302   57    0   1       130   236    0        0      174      0      0.0   \n",
       "\n",
       "     slope  ca  thal  target  \n",
       "298      1   0     3       0  \n",
       "299      1   0     3       0  \n",
       "300      1   2     3       0  \n",
       "301      1   1     3       0  \n",
       "302      1   1     2       0  "
      ]
     },
     "execution_count": 8,
     "metadata": {},
     "output_type": "execute_result"
    }
   ],
   "source": [
    "df.tail()"
   ]
  },
  {
   "cell_type": "code",
   "execution_count": 10,
   "metadata": {},
   "outputs": [
    {
     "data": {
      "text/plain": [
       "1    165\n",
       "0    138\n",
       "Name: target, dtype: int64"
      ]
     },
     "execution_count": 10,
     "metadata": {},
     "output_type": "execute_result"
    }
   ],
   "source": [
    "df.target.value_counts()"
   ]
  },
  {
   "cell_type": "code",
   "execution_count": 13,
   "metadata": {},
   "outputs": [
    {
     "data": {
      "text/plain": [
       "<matplotlib.axes._subplots.AxesSubplot at 0x251ae824430>"
      ]
     },
     "execution_count": 13,
     "metadata": {},
     "output_type": "execute_result"
    },
    {
     "data": {
      "image/png": "[encoded data removed]",
      "text/plain": [
       "<Figure size 432x288 with 1 Axes>"
      ]
     },
     "metadata": {
      "needs_background": "light"
     },
     "output_type": "display_data"
    }
   ],
   "source": [
    "df.target.value_counts().plot(kind = \"bar\", color = [\"pink\",\"skyblue\"])"
   ]
  },
  {
   "cell_type": "code",
   "execution_count": 15,
   "metadata": {},
   "outputs": [
    {
     "name": "stdout",
     "output_type": "stream",
     "text": [
      "<class 'pandas.core.frame.DataFrame'>\n",
      "RangeIndex: 303 entries, 0 to 302\n",
      "Data columns (total 14 columns):\n",
      " #   Column    Non-Null Count  Dtype  \n",
      "---  ------    --------------  -----  \n",
      " 0   age       303 non-null    int64  \n",
      " 1   sex       303 non-null    int64  \n",
      " 2   cp        303 non-null    int64  \n",
      " 3   trestbps  303 non-null    int64  \n",
      " 4   chol      303 non-null    int64  \n",
      " 5   fbs       303 non-null    int64  \n",
      " 6   restecg   303 non-null    int64  \n",
      " 7   thalach   303 non-null    int64  \n",
      " 8   exang     303 non-null    int64  \n",
      " 9   oldpeak   303 non-null    float64\n",
      " 10  slope     303 non-null    int64  \n",
      " 11  ca        303 non-null    int64  \n",
      " 12  thal      303 non-null    int64  \n",
      " 13  target    303 non-null    int64  \n",
      "dtypes: float64(1), int64(13)\n",
      "memory usage: 33.3 KB\n"
     ]
    }
   ],
   "source": [
    "df.info()"
   ]
  },
  {
   "cell_type": "code",
   "execution_count": 17,
   "metadata": {},
   "outputs": [
    {
     "data": {
      "text/plain": [
       "age         0\n",
       "sex         0\n",
       "cp          0\n",
       "trestbps    0\n",
       "chol        0\n",
       "fbs         0\n",
       "restecg     0\n",
       "thalach     0\n",
       "exang       0\n",
       "oldpeak     0\n",
       "slope       0\n",
       "ca          0\n",
       "thal        0\n",
       "target      0\n",
       "dtype: int64"
      ]
     },
     "execution_count": 17,
     "metadata": {},
     "output_type": "execute_result"
    }
   ],
   "source": [
    "##Are there missing values\n",
    "df.isna().sum()"
   ]
  },
  {
   "cell_type": "code",
   "execution_count": 18,
   "metadata": {},
   "outputs": [
    {
     "data": {
      "text/html": [
       "<div>\n",
       "<style scoped>\n",
       "    .dataframe tbody tr th:only-of-type {\n",
       "        vertical-align: middle;\n",
       "    }\n",
       "\n",
       "    .dataframe tbody tr th {\n",
       "        vertical-align: top;\n",
       "    }\n",
       "\n",
       "    .dataframe thead th {\n",
       "        text-align: right;\n",
       "    }\n",
       "</style>\n",
       "<table border=\"1\" class=\"dataframe\">\n",
       "  <thead>\n",
       "    <tr style=\"text-align: right;\">\n",
       "      <th></th>\n",
       "      <th>age</th>\n",
       "      <th>sex</th>\n",
       "      <th>cp</th>\n",
       "      <th>trestbps</th>\n",
       "      <th>chol</th>\n",
       "      <th>fbs</th>\n",
       "      <th>restecg</th>\n",
       "      <th>thalach</th>\n",
       "      <th>exang</th>\n",
       "      <th>oldpeak</th>\n",
       "      <th>slope</th>\n",
       "      <th>ca</th>\n",
       "      <th>thal</th>\n",
       "      <th>target</th>\n",
       "    </tr>\n",
       "  </thead>\n",
       "  <tbody>\n",
       "    <tr>\n",
       "      <th>count</th>\n",
       "      <td>303.000000</td>\n",
       "      <td>303.000000</td>\n",
       "      <td>303.000000</td>\n",
       "      <td>303.000000</td>\n",
       "      <td>303.000000</td>\n",
       "      <td>303.000000</td>\n",
       "      <td>303.000000</td>\n",
       "      <td>303.000000</td>\n",
       "      <td>303.000000</td>\n",
       "      <td>303.000000</td>\n",
       "      <td>303.000000</td>\n",
       "      <td>303.000000</td>\n",
       "      <td>303.000000</td>\n",
       "      <td>303.000000</td>\n",
       "    </tr>\n",
       "    <tr>\n",
       "      <th>mean</th>\n",
       "      <td>54.366337</td>\n",
       "      <td>0.683168</td>\n",
       "      <td>0.966997</td>\n",
       "      <td>131.623762</td>\n",
       "      <td>246.264026</td>\n",
       "      <td>0.148515</td>\n",
       "      <td>0.528053</td>\n",
       "      <td>149.646865</td>\n",
       "      <td>0.326733</td>\n",
       "      <td>1.039604</td>\n",
       "      <td>1.399340</td>\n",
       "      <td>0.729373</td>\n",
       "      <td>2.313531</td>\n",
       "      <td>0.544554</td>\n",
       "    </tr>\n",
       "    <tr>\n",
       "      <th>std</th>\n",
       "      <td>9.082101</td>\n",
       "      <td>0.466011</td>\n",
       "      <td>1.032052</td>\n",
       "      <td>17.538143</td>\n",
       "      <td>51.830751</td>\n",
       "      <td>0.356198</td>\n",
       "      <td>0.525860</td>\n",
       "      <td>22.905161</td>\n",
       "      <td>0.469794</td>\n",
       "      <td>1.161075</td>\n",
       "      <td>0.616226</td>\n",
       "      <td>1.022606</td>\n",
       "      <td>0.612277</td>\n",
       "      <td>0.498835</td>\n",
       "    </tr>\n",
       "    <tr>\n",
       "      <th>min</th>\n",
       "      <td>29.000000</td>\n",
       "      <td>0.000000</td>\n",
       "      <td>0.000000</td>\n",
       "      <td>94.000000</td>\n",
       "      <td>126.000000</td>\n",
       "      <td>0.000000</td>\n",
       "      <td>0.000000</td>\n",
       "      <td>71.000000</td>\n",
       "      <td>0.000000</td>\n",
       "      <td>0.000000</td>\n",
       "      <td>0.000000</td>\n",
       "      <td>0.000000</td>\n",
       "      <td>0.000000</td>\n",
       "      <td>0.000000</td>\n",
       "    </tr>\n",
       "    <tr>\n",
       "      <th>25%</th>\n",
       "      <td>47.500000</td>\n",
       "      <td>0.000000</td>\n",
       "      <td>0.000000</td>\n",
       "      <td>120.000000</td>\n",
       "      <td>211.000000</td>\n",
       "      <td>0.000000</td>\n",
       "      <td>0.000000</td>\n",
       "      <td>133.500000</td>\n",
       "      <td>0.000000</td>\n",
       "      <td>0.000000</td>\n",
       "      <td>1.000000</td>\n",
       "      <td>0.000000</td>\n",
       "      <td>2.000000</td>\n",
       "      <td>0.000000</td>\n",
       "    </tr>\n",
       "    <tr>\n",
       "      <th>50%</th>\n",
       "      <td>55.000000</td>\n",
       "      <td>1.000000</td>\n",
       "      <td>1.000000</td>\n",
       "      <td>130.000000</td>\n",
       "      <td>240.000000</td>\n",
       "      <td>0.000000</td>\n",
       "      <td>1.000000</td>\n",
       "      <td>153.000000</td>\n",
       "      <td>0.000000</td>\n",
       "      <td>0.800000</td>\n",
       "      <td>1.000000</td>\n",
       "      <td>0.000000</td>\n",
       "      <td>2.000000</td>\n",
       "      <td>1.000000</td>\n",
       "    </tr>\n",
       "    <tr>\n",
       "      <th>75%</th>\n",
       "      <td>61.000000</td>\n",
       "      <td>1.000000</td>\n",
       "      <td>2.000000</td>\n",
       "      <td>140.000000</td>\n",
       "      <td>274.500000</td>\n",
       "      <td>0.000000</td>\n",
       "      <td>1.000000</td>\n",
       "      <td>166.000000</td>\n",
       "      <td>1.000000</td>\n",
       "      <td>1.600000</td>\n",
       "      <td>2.000000</td>\n",
       "      <td>1.000000</td>\n",
       "      <td>3.000000</td>\n",
       "      <td>1.000000</td>\n",
       "    </tr>\n",
       "    <tr>\n",
       "      <th>max</th>\n",
       "      <td>77.000000</td>\n",
       "      <td>1.000000</td>\n",
       "      <td>3.000000</td>\n",
       "      <td>200.000000</td>\n",
       "      <td>564.000000</td>\n",
       "      <td>1.000000</td>\n",
       "      <td>2.000000</td>\n",
       "      <td>202.000000</td>\n",
       "      <td>1.000000</td>\n",
       "      <td>6.200000</td>\n",
       "      <td>2.000000</td>\n",
       "      <td>4.000000</td>\n",
       "      <td>3.000000</td>\n",
       "      <td>1.000000</td>\n",
       "    </tr>\n",
       "  </tbody>\n",
       "</table>\n",
       "</div>"
      ],
      "text/plain": [
       "              age         sex          cp    trestbps        chol         fbs  \\\n",
       "count  303.000000  303.000000  303.000000  303.000000  303.000000  303.000000   \n",
       "mean    54.366337    0.683168    0.966997  131.623762  246.264026    0.148515   \n",
       "std      9.082101    0.466011    1.032052   17.538143   51.830751    0.356198   \n",
       "min     29.000000    0.000000    0.000000   94.000000  126.000000    0.000000   \n",
       "25%     47.500000    0.000000    0.000000  120.000000  211.000000    0.000000   \n",
       "50%     55.000000    1.000000    1.000000  130.000000  240.000000    0.000000   \n",
       "75%     61.000000    1.000000    2.000000  140.000000  274.500000    0.000000   \n",
       "max     77.000000    1.000000    3.000000  200.000000  564.000000    1.000000   \n",
       "\n",
       "          restecg     thalach       exang     oldpeak       slope          ca  \\\n",
       "count  303.000000  303.000000  303.000000  303.000000  303.000000  303.000000   \n",
       "mean     0.528053  149.646865    0.326733    1.039604    1.399340    0.729373   \n",
       "std      0.525860   22.905161    0.469794    1.161075    0.616226    1.022606   \n",
       "min      0.000000   71.000000    0.000000    0.000000    0.000000    0.000000   \n",
       "25%      0.000000  133.500000    0.000000    0.000000    1.000000    0.000000   \n",
       "50%      1.000000  153.000000    0.000000    0.800000    1.000000    0.000000   \n",
       "75%      1.000000  166.000000    1.000000    1.600000    2.000000    1.000000   \n",
       "max      2.000000  202.000000    1.000000    6.200000    2.000000    4.000000   \n",
       "\n",
       "             thal      target  \n",
       "count  303.000000  303.000000  \n",
       "mean     2.313531    0.544554  \n",
       "std      0.612277    0.498835  \n",
       "min      0.000000    0.000000  \n",
       "25%      2.000000    0.000000  \n",
       "50%      2.000000    1.000000  \n",
       "75%      3.000000    1.000000  \n",
       "max      3.000000    1.000000  "
      ]
     },
     "execution_count": 18,
     "metadata": {},
     "output_type": "execute_result"
    }
   ],
   "source": [
    "df.describe()"
   ]
  },
  {
   "cell_type": "code",
   "execution_count": 21,
   "metadata": {},
   "outputs": [
    {
     "data": {
      "text/html": [
       "<div>\n",
       "<style scoped>\n",
       "    .dataframe tbody tr th:only-of-type {\n",
       "        vertical-align: middle;\n",
       "    }\n",
       "\n",
       "    .dataframe tbody tr th {\n",
       "        vertical-align: top;\n",
       "    }\n",
       "\n",
       "    .dataframe thead th {\n",
       "        text-align: right;\n",
       "    }\n",
       "</style>\n",
       "<table border=\"1\" class=\"dataframe\">\n",
       "  <thead>\n",
       "    <tr style=\"text-align: right;\">\n",
       "      <th></th>\n",
       "      <th>age</th>\n",
       "      <th>sex</th>\n",
       "      <th>cp</th>\n",
       "      <th>trestbps</th>\n",
       "      <th>chol</th>\n",
       "      <th>fbs</th>\n",
       "      <th>restecg</th>\n",
       "      <th>thalach</th>\n",
       "      <th>exang</th>\n",
       "      <th>oldpeak</th>\n",
       "      <th>slope</th>\n",
       "      <th>ca</th>\n",
       "      <th>thal</th>\n",
       "      <th>target</th>\n",
       "    </tr>\n",
       "  </thead>\n",
       "  <tbody>\n",
       "    <tr>\n",
       "      <th>0</th>\n",
       "      <td>63</td>\n",
       "      <td>1</td>\n",
       "      <td>3</td>\n",
       "      <td>145</td>\n",
       "      <td>233</td>\n",
       "      <td>1</td>\n",
       "      <td>0</td>\n",
       "      <td>150</td>\n",
       "      <td>0</td>\n",
       "      <td>2.3</td>\n",
       "      <td>0</td>\n",
       "      <td>0</td>\n",
       "      <td>1</td>\n",
       "      <td>1</td>\n",
       "    </tr>\n",
       "    <tr>\n",
       "      <th>1</th>\n",
       "      <td>37</td>\n",
       "      <td>1</td>\n",
       "      <td>2</td>\n",
       "      <td>130</td>\n",
       "      <td>250</td>\n",
       "      <td>0</td>\n",
       "      <td>1</td>\n",
       "      <td>187</td>\n",
       "      <td>0</td>\n",
       "      <td>3.5</td>\n",
       "      <td>0</td>\n",
       "      <td>0</td>\n",
       "      <td>2</td>\n",
       "      <td>1</td>\n",
       "    </tr>\n",
       "    <tr>\n",
       "      <th>2</th>\n",
       "      <td>41</td>\n",
       "      <td>0</td>\n",
       "      <td>1</td>\n",
       "      <td>130</td>\n",
       "      <td>204</td>\n",
       "      <td>0</td>\n",
       "      <td>0</td>\n",
       "      <td>172</td>\n",
       "      <td>0</td>\n",
       "      <td>1.4</td>\n",
       "      <td>2</td>\n",
       "      <td>0</td>\n",
       "      <td>2</td>\n",
       "      <td>1</td>\n",
       "    </tr>\n",
       "    <tr>\n",
       "      <th>3</th>\n",
       "      <td>56</td>\n",
       "      <td>1</td>\n",
       "      <td>1</td>\n",
       "      <td>120</td>\n",
       "      <td>236</td>\n",
       "      <td>0</td>\n",
       "      <td>1</td>\n",
       "      <td>178</td>\n",
       "      <td>0</td>\n",
       "      <td>0.8</td>\n",
       "      <td>2</td>\n",
       "      <td>0</td>\n",
       "      <td>2</td>\n",
       "      <td>1</td>\n",
       "    </tr>\n",
       "    <tr>\n",
       "      <th>4</th>\n",
       "      <td>57</td>\n",
       "      <td>0</td>\n",
       "      <td>0</td>\n",
       "      <td>120</td>\n",
       "      <td>354</td>\n",
       "      <td>0</td>\n",
       "      <td>1</td>\n",
       "      <td>163</td>\n",
       "      <td>1</td>\n",
       "      <td>0.6</td>\n",
       "      <td>2</td>\n",
       "      <td>0</td>\n",
       "      <td>2</td>\n",
       "      <td>1</td>\n",
       "    </tr>\n",
       "    <tr>\n",
       "      <th>...</th>\n",
       "      <td>...</td>\n",
       "      <td>...</td>\n",
       "      <td>...</td>\n",
       "      <td>...</td>\n",
       "      <td>...</td>\n",
       "      <td>...</td>\n",
       "      <td>...</td>\n",
       "      <td>...</td>\n",
       "      <td>...</td>\n",
       "      <td>...</td>\n",
       "      <td>...</td>\n",
       "      <td>...</td>\n",
       "      <td>...</td>\n",
       "      <td>...</td>\n",
       "    </tr>\n",
       "    <tr>\n",
       "      <th>160</th>\n",
       "      <td>56</td>\n",
       "      <td>1</td>\n",
       "      <td>1</td>\n",
       "      <td>120</td>\n",
       "      <td>240</td>\n",
       "      <td>0</td>\n",
       "      <td>1</td>\n",
       "      <td>169</td>\n",
       "      <td>0</td>\n",
       "      <td>0.0</td>\n",
       "      <td>0</td>\n",
       "      <td>0</td>\n",
       "      <td>2</td>\n",
       "      <td>1</td>\n",
       "    </tr>\n",
       "    <tr>\n",
       "      <th>161</th>\n",
       "      <td>55</td>\n",
       "      <td>0</td>\n",
       "      <td>1</td>\n",
       "      <td>132</td>\n",
       "      <td>342</td>\n",
       "      <td>0</td>\n",
       "      <td>1</td>\n",
       "      <td>166</td>\n",
       "      <td>0</td>\n",
       "      <td>1.2</td>\n",
       "      <td>2</td>\n",
       "      <td>0</td>\n",
       "      <td>2</td>\n",
       "      <td>1</td>\n",
       "    </tr>\n",
       "    <tr>\n",
       "      <th>162</th>\n",
       "      <td>41</td>\n",
       "      <td>1</td>\n",
       "      <td>1</td>\n",
       "      <td>120</td>\n",
       "      <td>157</td>\n",
       "      <td>0</td>\n",
       "      <td>1</td>\n",
       "      <td>182</td>\n",
       "      <td>0</td>\n",
       "      <td>0.0</td>\n",
       "      <td>2</td>\n",
       "      <td>0</td>\n",
       "      <td>2</td>\n",
       "      <td>1</td>\n",
       "    </tr>\n",
       "    <tr>\n",
       "      <th>163</th>\n",
       "      <td>38</td>\n",
       "      <td>1</td>\n",
       "      <td>2</td>\n",
       "      <td>138</td>\n",
       "      <td>175</td>\n",
       "      <td>0</td>\n",
       "      <td>1</td>\n",
       "      <td>173</td>\n",
       "      <td>0</td>\n",
       "      <td>0.0</td>\n",
       "      <td>2</td>\n",
       "      <td>4</td>\n",
       "      <td>2</td>\n",
       "      <td>1</td>\n",
       "    </tr>\n",
       "    <tr>\n",
       "      <th>164</th>\n",
       "      <td>38</td>\n",
       "      <td>1</td>\n",
       "      <td>2</td>\n",
       "      <td>138</td>\n",
       "      <td>175</td>\n",
       "      <td>0</td>\n",
       "      <td>1</td>\n",
       "      <td>173</td>\n",
       "      <td>0</td>\n",
       "      <td>0.0</td>\n",
       "      <td>2</td>\n",
       "      <td>4</td>\n",
       "      <td>2</td>\n",
       "      <td>1</td>\n",
       "    </tr>\n",
       "  </tbody>\n",
       "</table>\n",
       "<p>165 rows × 14 columns</p>\n",
       "</div>"
      ],
      "text/plain": [
       "     age  sex  cp  trestbps  chol  fbs  restecg  thalach  exang  oldpeak  \\\n",
       "0     63    1   3       145   233    1        0      150      0      2.3   \n",
       "1     37    1   2       130   250    0        1      187      0      3.5   \n",
       "2     41    0   1       130   204    0        0      172      0      1.4   \n",
       "3     56    1   1       120   236    0        1      178      0      0.8   \n",
       "4     57    0   0       120   354    0        1      163      1      0.6   \n",
       "..   ...  ...  ..       ...   ...  ...      ...      ...    ...      ...   \n",
       "160   56    1   1       120   240    0        1      169      0      0.0   \n",
       "161   55    0   1       132   342    0        1      166      0      1.2   \n",
       "162   41    1   1       120   157    0        1      182      0      0.0   \n",
       "163   38    1   2       138   175    0        1      173      0      0.0   \n",
       "164   38    1   2       138   175    0        1      173      0      0.0   \n",
       "\n",
       "     slope  ca  thal  target  \n",
       "0        0   0     1       1  \n",
       "1        0   0     2       1  \n",
       "2        2   0     2       1  \n",
       "3        2   0     2       1  \n",
       "4        2   0     2       1  \n",
       "..     ...  ..   ...     ...  \n",
       "160      0   0     2       1  \n",
       "161      2   0     2       1  \n",
       "162      2   0     2       1  \n",
       "163      2   4     2       1  \n",
       "164      2   4     2       1  \n",
       "\n",
       "[165 rows x 14 columns]"
      ]
     },
     "execution_count": 21,
     "metadata": {},
     "output_type": "execute_result"
    }
   ],
   "source": [
    "df[df[\"target\"] == 1]"
   ]
  },
  {
   "cell_type": "code",
   "execution_count": 22,
   "metadata": {},
   "outputs": [
    {
     "data": {
      "text/plain": [
       "1    207\n",
       "0     96\n",
       "Name: sex, dtype: int64"
      ]
     },
     "execution_count": 22,
     "metadata": {},
     "output_type": "execute_result"
    }
   ],
   "source": [
    "df.sex.value_counts()"
   ]
  },
  {
   "cell_type": "code",
   "execution_count": 27,
   "metadata": {},
   "outputs": [
    {
     "data": {
      "text/html": [
       "<div>\n",
       "<style scoped>\n",
       "    .dataframe tbody tr th:only-of-type {\n",
       "        vertical-align: middle;\n",
       "    }\n",
       "\n",
       "    .dataframe tbody tr th {\n",
       "        vertical-align: top;\n",
       "    }\n",
       "\n",
       "    .dataframe thead th {\n",
       "        text-align: right;\n",
       "    }\n",
       "</style>\n",
       "<table border=\"1\" class=\"dataframe\">\n",
       "  <thead>\n",
       "    <tr style=\"text-align: right;\">\n",
       "      <th>target</th>\n",
       "      <th>0</th>\n",
       "      <th>1</th>\n",
       "    </tr>\n",
       "    <tr>\n",
       "      <th>ca</th>\n",
       "      <th></th>\n",
       "      <th></th>\n",
       "    </tr>\n",
       "  </thead>\n",
       "  <tbody>\n",
       "    <tr>\n",
       "      <th>0</th>\n",
       "      <td>45</td>\n",
       "      <td>130</td>\n",
       "    </tr>\n",
       "    <tr>\n",
       "      <th>1</th>\n",
       "      <td>44</td>\n",
       "      <td>21</td>\n",
       "    </tr>\n",
       "    <tr>\n",
       "      <th>2</th>\n",
       "      <td>31</td>\n",
       "      <td>7</td>\n",
       "    </tr>\n",
       "    <tr>\n",
       "      <th>3</th>\n",
       "      <td>17</td>\n",
       "      <td>3</td>\n",
       "    </tr>\n",
       "    <tr>\n",
       "      <th>4</th>\n",
       "      <td>1</td>\n",
       "      <td>4</td>\n",
       "    </tr>\n",
       "  </tbody>\n",
       "</table>\n",
       "</div>"
      ],
      "text/plain": [
       "target   0    1\n",
       "ca             \n",
       "0       45  130\n",
       "1       44   21\n",
       "2       31    7\n",
       "3       17    3\n",
       "4        1    4"
      ]
     },
     "execution_count": 27,
     "metadata": {},
     "output_type": "execute_result"
    }
   ],
   "source": [
    "##Compare target column with sex column\n",
    "pd.crosstab(df.ca,df.target)"
   ]
  },
  {
   "cell_type": "code",
   "execution_count": 75,
   "metadata": {},
   "outputs": [
    {
     "data": {
      "image/png": "[encoded data removed]",
      "text/plain": [
       "<Figure size 720x720 with 1 Axes>"
      ]
     },
     "metadata": {
      "needs_background": "light"
     },
     "output_type": "display_data"
    }
   ],
   "source": [
    "data = pd.crosstab(df.ca,df.target)\n",
    "pd.crosstab(df.ca,df.target).plot(kind =\"bar\", figsize =(10,10), color = [\"orange\",\"skyblue\"])\n",
    "plt.title(\"Heart Disease Frequency by colored blood vessel count\")\n",
    "plt.xlabel(\"Colored Blood Vessel Count\")\n",
    "plt.ylabel(\"Count of Target\")\n",
    "plt.xticks(rotation = 0);\n",
    "for i in range(2):\n",
    "    for j in range(5):\n",
    "        if i==0:\n",
    "            plt.text(j-0.2,data[i][j]+0.2,str(data[i][j])) \n",
    "        else:\n",
    "            plt.text(j+0.1,data[i][j]+0.2,str(data[i][j])) "
   ]
  },
  {
   "cell_type": "markdown",
   "metadata": {},
   "source": [
    "## Age vs Max heart rate(Thalach) for heart disease"
   ]
  },
  {
   "cell_type": "code",
   "execution_count": 88,
   "metadata": {},
   "outputs": [
    {
     "data": {
      "image/png": "[encoded data removed]",
      "text/plain": [
       "<Figure size 720x720 with 1 Axes>"
      ]
     },
     "metadata": {
      "needs_background": "light"
     },
     "output_type": "display_data"
    }
   ],
   "source": [
    "fig, ax = plt.subplots(figsize = (10,10))\n",
    "ax.scatter(df.age[df.target == 1],df.thalach[df.target==1],c ='orange', label = \"Disease\")\n",
    "ax.set(title = \"Age Vs Max Heart Rate\", \n",
    "       xlabel = 'Age', ylabel =\"Max Heart Rate\")\n",
    "\n",
    "ax.scatter(df.age[df.target == 0],df.thalach[df.target==0],c ='blue',label = \"No Disease\")\n",
    "ax.legend();"
   ]
  },
  {
   "cell_type": "code",
   "execution_count": 91,
   "metadata": {},
   "outputs": [
    {
     "data": {
      "image/png": "[encoded data removed]",
      "text/plain": [
       "<Figure size 432x288 with 1 Axes>"
      ]
     },
     "metadata": {
      "needs_background": "light"
     },
     "output_type": "display_data"
    }
   ],
   "source": [
    "## Check the distribution of age, thalach using histogram\n",
    "df.thalach.plot(kind = \"hist\");"
   ]
  },
  {
   "cell_type": "code",
   "execution_count": 92,
   "metadata": {},
   "outputs": [
    {
     "data": {
      "image/png": "[encoded data removed]",
      "text/plain": [
       "<Figure size 432x288 with 1 Axes>"
      ]
     },
     "metadata": {
      "needs_background": "light"
     },
     "output_type": "display_data"
    }
   ],
   "source": [
    "df.age.plot(kind = \"hist\");"
   ]
  },
  {
   "cell_type": "code",
   "execution_count": 93,
   "metadata": {},
   "outputs": [
    {
     "data": {
      "text/html": [
       "<div>\n",
       "<style scoped>\n",
       "    .dataframe tbody tr th:only-of-type {\n",
       "        vertical-align: middle;\n",
       "    }\n",
       "\n",
       "    .dataframe tbody tr th {\n",
       "        vertical-align: top;\n",
       "    }\n",
       "\n",
       "    .dataframe thead th {\n",
       "        text-align: right;\n",
       "    }\n",
       "</style>\n",
       "<table border=\"1\" class=\"dataframe\">\n",
       "  <thead>\n",
       "    <tr style=\"text-align: right;\">\n",
       "      <th>target</th>\n",
       "      <th>0</th>\n",
       "      <th>1</th>\n",
       "    </tr>\n",
       "    <tr>\n",
       "      <th>cp</th>\n",
       "      <th></th>\n",
       "      <th></th>\n",
       "    </tr>\n",
       "  </thead>\n",
       "  <tbody>\n",
       "    <tr>\n",
       "      <th>0</th>\n",
       "      <td>104</td>\n",
       "      <td>39</td>\n",
       "    </tr>\n",
       "    <tr>\n",
       "      <th>1</th>\n",
       "      <td>9</td>\n",
       "      <td>41</td>\n",
       "    </tr>\n",
       "    <tr>\n",
       "      <th>2</th>\n",
       "      <td>18</td>\n",
       "      <td>69</td>\n",
       "    </tr>\n",
       "    <tr>\n",
       "      <th>3</th>\n",
       "      <td>7</td>\n",
       "      <td>16</td>\n",
       "    </tr>\n",
       "  </tbody>\n",
       "</table>\n",
       "</div>"
      ],
      "text/plain": [
       "target    0   1\n",
       "cp             \n",
       "0       104  39\n",
       "1         9  41\n",
       "2        18  69\n",
       "3         7  16"
      ]
     },
     "execution_count": 93,
     "metadata": {},
     "output_type": "execute_result"
    }
   ],
   "source": [
    "## Compare chest pain type with heart disease\n",
    "pd.crosstab(df.cp,df.target)"
   ]
  },
  {
   "cell_type": "code",
   "execution_count": 95,
   "metadata": {},
   "outputs": [
    {
     "data": {
      "image/png": "[encoded data removed]",
      "text/plain": [
       "<Figure size 720x720 with 1 Axes>"
      ]
     },
     "metadata": {
      "needs_background": "light"
     },
     "output_type": "display_data"
    }
   ],
   "source": [
    "datacp = pd.crosstab(df.cp,df.target)\n",
    "pd.crosstab(df.cp,df.target).plot(kind =\"bar\", figsize =(10,10), color = [\"orange\",\"skyblue\"])\n",
    "plt.title(\"Heart Disease Frequency by Chest pain type\")\n",
    "plt.xlabel(\"Chest pain type\")\n",
    "plt.ylabel(\"Count of Target\")\n",
    "plt.xticks(rotation = 0);\n",
    "for i in range(2):\n",
    "    for j in range(4):\n",
    "        if i==0:\n",
    "            plt.text(j-0.2,datacp[i][j]+0.2,str(datacp[i][j])) \n",
    "        else:\n",
    "            plt.text(j+0.1,datacp[i][j]+0.2,str(datacp[i][j])) "
   ]
  },
  {
   "cell_type": "code",
   "execution_count": 96,
   "metadata": {},
   "outputs": [
    {
     "data": {
      "text/html": [
       "<div>\n",
       "<style scoped>\n",
       "    .dataframe tbody tr th:only-of-type {\n",
       "        vertical-align: middle;\n",
       "    }\n",
       "\n",
       "    .dataframe tbody tr th {\n",
       "        vertical-align: top;\n",
       "    }\n",
       "\n",
       "    .dataframe thead th {\n",
       "        text-align: right;\n",
       "    }\n",
       "</style>\n",
       "<table border=\"1\" class=\"dataframe\">\n",
       "  <thead>\n",
       "    <tr style=\"text-align: right;\">\n",
       "      <th></th>\n",
       "      <th>age</th>\n",
       "      <th>sex</th>\n",
       "      <th>cp</th>\n",
       "      <th>trestbps</th>\n",
       "      <th>chol</th>\n",
       "      <th>fbs</th>\n",
       "      <th>restecg</th>\n",
       "      <th>thalach</th>\n",
       "      <th>exang</th>\n",
       "      <th>oldpeak</th>\n",
       "      <th>slope</th>\n",
       "      <th>ca</th>\n",
       "      <th>thal</th>\n",
       "      <th>target</th>\n",
       "    </tr>\n",
       "  </thead>\n",
       "  <tbody>\n",
       "    <tr>\n",
       "      <th>age</th>\n",
       "      <td>1.000000</td>\n",
       "      <td>-0.098447</td>\n",
       "      <td>-0.068653</td>\n",
       "      <td>0.279351</td>\n",
       "      <td>0.213678</td>\n",
       "      <td>0.121308</td>\n",
       "      <td>-0.116211</td>\n",
       "      <td>-0.398522</td>\n",
       "      <td>0.096801</td>\n",
       "      <td>0.210013</td>\n",
       "      <td>-0.168814</td>\n",
       "      <td>0.276326</td>\n",
       "      <td>0.068001</td>\n",
       "      <td>-0.225439</td>\n",
       "    </tr>\n",
       "    <tr>\n",
       "      <th>sex</th>\n",
       "      <td>-0.098447</td>\n",
       "      <td>1.000000</td>\n",
       "      <td>-0.049353</td>\n",
       "      <td>-0.056769</td>\n",
       "      <td>-0.197912</td>\n",
       "      <td>0.045032</td>\n",
       "      <td>-0.058196</td>\n",
       "      <td>-0.044020</td>\n",
       "      <td>0.141664</td>\n",
       "      <td>0.096093</td>\n",
       "      <td>-0.030711</td>\n",
       "      <td>0.118261</td>\n",
       "      <td>0.210041</td>\n",
       "      <td>-0.280937</td>\n",
       "    </tr>\n",
       "    <tr>\n",
       "      <th>cp</th>\n",
       "      <td>-0.068653</td>\n",
       "      <td>-0.049353</td>\n",
       "      <td>1.000000</td>\n",
       "      <td>0.047608</td>\n",
       "      <td>-0.076904</td>\n",
       "      <td>0.094444</td>\n",
       "      <td>0.044421</td>\n",
       "      <td>0.295762</td>\n",
       "      <td>-0.394280</td>\n",
       "      <td>-0.149230</td>\n",
       "      <td>0.119717</td>\n",
       "      <td>-0.181053</td>\n",
       "      <td>-0.161736</td>\n",
       "      <td>0.433798</td>\n",
       "    </tr>\n",
       "    <tr>\n",
       "      <th>trestbps</th>\n",
       "      <td>0.279351</td>\n",
       "      <td>-0.056769</td>\n",
       "      <td>0.047608</td>\n",
       "      <td>1.000000</td>\n",
       "      <td>0.123174</td>\n",
       "      <td>0.177531</td>\n",
       "      <td>-0.114103</td>\n",
       "      <td>-0.046698</td>\n",
       "      <td>0.067616</td>\n",
       "      <td>0.193216</td>\n",
       "      <td>-0.121475</td>\n",
       "      <td>0.101389</td>\n",
       "      <td>0.062210</td>\n",
       "      <td>-0.144931</td>\n",
       "    </tr>\n",
       "    <tr>\n",
       "      <th>chol</th>\n",
       "      <td>0.213678</td>\n",
       "      <td>-0.197912</td>\n",
       "      <td>-0.076904</td>\n",
       "      <td>0.123174</td>\n",
       "      <td>1.000000</td>\n",
       "      <td>0.013294</td>\n",
       "      <td>-0.151040</td>\n",
       "      <td>-0.009940</td>\n",
       "      <td>0.067023</td>\n",
       "      <td>0.053952</td>\n",
       "      <td>-0.004038</td>\n",
       "      <td>0.070511</td>\n",
       "      <td>0.098803</td>\n",
       "      <td>-0.085239</td>\n",
       "    </tr>\n",
       "    <tr>\n",
       "      <th>fbs</th>\n",
       "      <td>0.121308</td>\n",
       "      <td>0.045032</td>\n",
       "      <td>0.094444</td>\n",
       "      <td>0.177531</td>\n",
       "      <td>0.013294</td>\n",
       "      <td>1.000000</td>\n",
       "      <td>-0.084189</td>\n",
       "      <td>-0.008567</td>\n",
       "      <td>0.025665</td>\n",
       "      <td>0.005747</td>\n",
       "      <td>-0.059894</td>\n",
       "      <td>0.137979</td>\n",
       "      <td>-0.032019</td>\n",
       "      <td>-0.028046</td>\n",
       "    </tr>\n",
       "    <tr>\n",
       "      <th>restecg</th>\n",
       "      <td>-0.116211</td>\n",
       "      <td>-0.058196</td>\n",
       "      <td>0.044421</td>\n",
       "      <td>-0.114103</td>\n",
       "      <td>-0.151040</td>\n",
       "      <td>-0.084189</td>\n",
       "      <td>1.000000</td>\n",
       "      <td>0.044123</td>\n",
       "      <td>-0.070733</td>\n",
       "      <td>-0.058770</td>\n",
       "      <td>0.093045</td>\n",
       "      <td>-0.072042</td>\n",
       "      <td>-0.011981</td>\n",
       "      <td>0.137230</td>\n",
       "    </tr>\n",
       "    <tr>\n",
       "      <th>thalach</th>\n",
       "      <td>-0.398522</td>\n",
       "      <td>-0.044020</td>\n",
       "      <td>0.295762</td>\n",
       "      <td>-0.046698</td>\n",
       "      <td>-0.009940</td>\n",
       "      <td>-0.008567</td>\n",
       "      <td>0.044123</td>\n",
       "      <td>1.000000</td>\n",
       "      <td>-0.378812</td>\n",
       "      <td>-0.344187</td>\n",
       "      <td>0.386784</td>\n",
       "      <td>-0.213177</td>\n",
       "      <td>-0.096439</td>\n",
       "      <td>0.421741</td>\n",
       "    </tr>\n",
       "    <tr>\n",
       "      <th>exang</th>\n",
       "      <td>0.096801</td>\n",
       "      <td>0.141664</td>\n",
       "      <td>-0.394280</td>\n",
       "      <td>0.067616</td>\n",
       "      <td>0.067023</td>\n",
       "      <td>0.025665</td>\n",
       "      <td>-0.070733</td>\n",
       "      <td>-0.378812</td>\n",
       "      <td>1.000000</td>\n",
       "      <td>0.288223</td>\n",
       "      <td>-0.257748</td>\n",
       "      <td>0.115739</td>\n",
       "      <td>0.206754</td>\n",
       "      <td>-0.436757</td>\n",
       "    </tr>\n",
       "    <tr>\n",
       "      <th>oldpeak</th>\n",
       "      <td>0.210013</td>\n",
       "      <td>0.096093</td>\n",
       "      <td>-0.149230</td>\n",
       "      <td>0.193216</td>\n",
       "      <td>0.053952</td>\n",
       "      <td>0.005747</td>\n",
       "      <td>-0.058770</td>\n",
       "      <td>-0.344187</td>\n",
       "      <td>0.288223</td>\n",
       "      <td>1.000000</td>\n",
       "      <td>-0.577537</td>\n",
       "      <td>0.222682</td>\n",
       "      <td>0.210244</td>\n",
       "      <td>-0.430696</td>\n",
       "    </tr>\n",
       "    <tr>\n",
       "      <th>slope</th>\n",
       "      <td>-0.168814</td>\n",
       "      <td>-0.030711</td>\n",
       "      <td>0.119717</td>\n",
       "      <td>-0.121475</td>\n",
       "      <td>-0.004038</td>\n",
       "      <td>-0.059894</td>\n",
       "      <td>0.093045</td>\n",
       "      <td>0.386784</td>\n",
       "      <td>-0.257748</td>\n",
       "      <td>-0.577537</td>\n",
       "      <td>1.000000</td>\n",
       "      <td>-0.080155</td>\n",
       "      <td>-0.104764</td>\n",
       "      <td>0.345877</td>\n",
       "    </tr>\n",
       "    <tr>\n",
       "      <th>ca</th>\n",
       "      <td>0.276326</td>\n",
       "      <td>0.118261</td>\n",
       "      <td>-0.181053</td>\n",
       "      <td>0.101389</td>\n",
       "      <td>0.070511</td>\n",
       "      <td>0.137979</td>\n",
       "      <td>-0.072042</td>\n",
       "      <td>-0.213177</td>\n",
       "      <td>0.115739</td>\n",
       "      <td>0.222682</td>\n",
       "      <td>-0.080155</td>\n",
       "      <td>1.000000</td>\n",
       "      <td>0.151832</td>\n",
       "      <td>-0.391724</td>\n",
       "    </tr>\n",
       "    <tr>\n",
       "      <th>thal</th>\n",
       "      <td>0.068001</td>\n",
       "      <td>0.210041</td>\n",
       "      <td>-0.161736</td>\n",
       "      <td>0.062210</td>\n",
       "      <td>0.098803</td>\n",
       "      <td>-0.032019</td>\n",
       "      <td>-0.011981</td>\n",
       "      <td>-0.096439</td>\n",
       "      <td>0.206754</td>\n",
       "      <td>0.210244</td>\n",
       "      <td>-0.104764</td>\n",
       "      <td>0.151832</td>\n",
       "      <td>1.000000</td>\n",
       "      <td>-0.344029</td>\n",
       "    </tr>\n",
       "    <tr>\n",
       "      <th>target</th>\n",
       "      <td>-0.225439</td>\n",
       "      <td>-0.280937</td>\n",
       "      <td>0.433798</td>\n",
       "      <td>-0.144931</td>\n",
       "      <td>-0.085239</td>\n",
       "      <td>-0.028046</td>\n",
       "      <td>0.137230</td>\n",
       "      <td>0.421741</td>\n",
       "      <td>-0.436757</td>\n",
       "      <td>-0.430696</td>\n",
       "      <td>0.345877</td>\n",
       "      <td>-0.391724</td>\n",
       "      <td>-0.344029</td>\n",
       "      <td>1.000000</td>\n",
       "    </tr>\n",
       "  </tbody>\n",
       "</table>\n",
       "</div>"
      ],
      "text/plain": [
       "               age       sex        cp  trestbps      chol       fbs  \\\n",
       "age       1.000000 -0.098447 -0.068653  0.279351  0.213678  0.121308   \n",
       "sex      -0.098447  1.000000 -0.049353 -0.056769 -0.197912  0.045032   \n",
       "cp       -0.068653 -0.049353  1.000000  0.047608 -0.076904  0.094444   \n",
       "trestbps  0.279351 -0.056769  0.047608  1.000000  0.123174  0.177531   \n",
       "chol      0.213678 -0.197912 -0.076904  0.123174  1.000000  0.013294   \n",
       "fbs       0.121308  0.045032  0.094444  0.177531  0.013294  1.000000   \n",
       "restecg  -0.116211 -0.058196  0.044421 -0.114103 -0.151040 -0.084189   \n",
       "thalach  -0.398522 -0.044020  0.295762 -0.046698 -0.009940 -0.008567   \n",
       "exang     0.096801  0.141664 -0.394280  0.067616  0.067023  0.025665   \n",
       "oldpeak   0.210013  0.096093 -0.149230  0.193216  0.053952  0.005747   \n",
       "slope    -0.168814 -0.030711  0.119717 -0.121475 -0.004038 -0.059894   \n",
       "ca        0.276326  0.118261 -0.181053  0.101389  0.070511  0.137979   \n",
       "thal      0.068001  0.210041 -0.161736  0.062210  0.098803 -0.032019   \n",
       "target   -0.225439 -0.280937  0.433798 -0.144931 -0.085239 -0.028046   \n",
       "\n",
       "           restecg   thalach     exang   oldpeak     slope        ca  \\\n",
       "age      -0.116211 -0.398522  0.096801  0.210013 -0.168814  0.276326   \n",
       "sex      -0.058196 -0.044020  0.141664  0.096093 -0.030711  0.118261   \n",
       "cp        0.044421  0.295762 -0.394280 -0.149230  0.119717 -0.181053   \n",
       "trestbps -0.114103 -0.046698  0.067616  0.193216 -0.121475  0.101389   \n",
       "chol     -0.151040 -0.009940  0.067023  0.053952 -0.004038  0.070511   \n",
       "fbs      -0.084189 -0.008567  0.025665  0.005747 -0.059894  0.137979   \n",
       "restecg   1.000000  0.044123 -0.070733 -0.058770  0.093045 -0.072042   \n",
       "thalach   0.044123  1.000000 -0.378812 -0.344187  0.386784 -0.213177   \n",
       "exang    -0.070733 -0.378812  1.000000  0.288223 -0.257748  0.115739   \n",
       "oldpeak  -0.058770 -0.344187  0.288223  1.000000 -0.577537  0.222682   \n",
       "slope     0.093045  0.386784 -0.257748 -0.577537  1.000000 -0.080155   \n",
       "ca       -0.072042 -0.213177  0.115739  0.222682 -0.080155  1.000000   \n",
       "thal     -0.011981 -0.096439  0.206754  0.210244 -0.104764  0.151832   \n",
       "target    0.137230  0.421741 -0.436757 -0.430696  0.345877 -0.391724   \n",
       "\n",
       "              thal    target  \n",
       "age       0.068001 -0.225439  \n",
       "sex       0.210041 -0.280937  \n",
       "cp       -0.161736  0.433798  \n",
       "trestbps  0.062210 -0.144931  \n",
       "chol      0.098803 -0.085239  \n",
       "fbs      -0.032019 -0.028046  \n",
       "restecg  -0.011981  0.137230  \n",
       "thalach  -0.096439  0.421741  \n",
       "exang     0.206754 -0.436757  \n",
       "oldpeak   0.210244 -0.430696  \n",
       "slope    -0.104764  0.345877  \n",
       "ca        0.151832 -0.391724  \n",
       "thal      1.000000 -0.344029  \n",
       "target   -0.344029  1.000000  "
      ]
     },
     "execution_count": 96,
     "metadata": {},
     "output_type": "execute_result"
    }
   ],
   "source": [
    "## Make a correlation matrix\n",
    "df.corr()"
   ]
  },
  {
   "cell_type": "code",
   "execution_count": 99,
   "metadata": {},
   "outputs": [
    {
     "data": {
      "image/png": "[encoded data removed]",
      "text/plain": [
       "<Figure size 720x1080 with 2 Axes>"
      ]
     },
     "metadata": {
      "needs_background": "light"
     },
     "output_type": "display_data"
    }
   ],
   "source": [
    "## Correlation matrix visual\n",
    "corr_mat = df.corr()\n",
    "fig, ax = plt.subplots(figsize = (10,15))\n",
    "ax = sns.heatmap(corr_mat,\n",
    "                annot = True,\n",
    "                fmt =\".2f\",\n",
    "                cmap =\"Set1\")"
   ]
  },
  {
   "cell_type": "code",
   "execution_count": 101,
   "metadata": {},
   "outputs": [
    {
     "data": {
      "image/png": "[encoded data removed]",
      "text/plain": [
       "<Figure size 720x720 with 1 Axes>"
      ]
     },
     "metadata": {
      "needs_background": "light"
     },
     "output_type": "display_data"
    }
   ],
   "source": [
    "## Exercise induced angina vs heart disease\n",
    "\n",
    "dataxang = pd.crosstab(df.exang,df.target)\n",
    "pd.crosstab(df.exang,df.target).plot(kind =\"bar\", figsize =(10,10), color = [\"orange\",\"skyblue\"])\n",
    "plt.title(\"Heart Disease Frequency by Exercise Induced Angina\")\n",
    "plt.xlabel(\"Exercise Induced Angina\")\n",
    "plt.ylabel(\"Count of Target\")\n",
    "plt.xticks(rotation = 0);\n",
    "for i in range(2):\n",
    "    for j in range(2):\n",
    "        if i==0:\n",
    "            plt.text(j-0.2,dataxang[i][j]+0.2,str(datacp[i][j])) \n",
    "        else:\n",
    "            plt.text(j+0.1,dataxang[i][j]+0.2,str(datacp[i][j])) "
   ]
  },
  {
   "cell_type": "markdown",
   "metadata": {},
   "source": [
    "## 5. Modelling"
   ]
  },
  {
   "cell_type": "code",
   "execution_count": 105,
   "metadata": {},
   "outputs": [],
   "source": [
    "## Split data into x and y\n",
    "\n",
    "X = df.drop(\"target\", axis = 1)\n",
    "y = df[\"target\"]\n",
    "\n",
    "## Split data into training and test\n",
    "np.random.seed(42)\n",
    "X_train, X_test,y_train,y_test = train_test_split(X,y,test_size =0.2)"
   ]
  },
  {
   "cell_type": "code",
   "execution_count": 106,
   "metadata": {},
   "outputs": [
    {
     "data": {
      "text/plain": [
       "((242, 13), (61, 13), (242,), (61,))"
      ]
     },
     "execution_count": 106,
     "metadata": {},
     "output_type": "execute_result"
    }
   ],
   "source": [
    "X_train.shape, X_test.shape,y_train.shape,y_test.shape"
   ]
  },
  {
   "cell_type": "markdown",
   "metadata": {},
   "source": [
    "##Build machine learning model, Train and determine patterns, use patterns found on the test set\n",
    "Try three models:\n",
    "1. Logistic Regression\n",
    "2. K Nearest Neighbours\n",
    "3. Random Forest Classifier"
   ]
  },
  {
   "cell_type": "code",
   "execution_count": 117,
   "metadata": {},
   "outputs": [
    {
     "name": "stderr",
     "output_type": "stream",
     "text": [
      "C:\\Users\\srengaraman\\machinelearning\\sample-project\\heart-disease-project\\env\\lib\\site-packages\\sklearn\\linear_model\\_logistic.py:938: ConvergenceWarning: lbfgs failed to converge (status=1):\n",
      "STOP: TOTAL NO. of ITERATIONS REACHED LIMIT.\n",
      "\n",
      "Increase the number of iterations (max_iter) or scale the data as shown in:\n",
      "    https://scikit-learn.org/stable/modules/preprocessing.html\n",
      "Please also refer to the documentation for alternative solver options:\n",
      "    https://scikit-learn.org/stable/modules/linear_model.html#logistic-regression\n",
      "  n_iter_i = _check_optimize_result(\n"
     ]
    }
   ],
   "source": [
    "model_dict ={\"Logistic Regression\":LogisticRegression(),\n",
    "             \"K Nearest Neighbors\":KNeighborsClassifier(),\n",
    "             \"Random Forest Classifier\":RandomForestClassifier()\n",
    "            }\n",
    "\n",
    "def fit_and_score(models,X_train,y_train,X_test,y_test):\n",
    "    '''\n",
    "    Fits and evaluates machine learning models\n",
    "    '''\n",
    "    np.random.seed(42)\n",
    "    model_score ={}\n",
    "    ##Loop through each model\n",
    "    for name,model in model_dict.items():\n",
    "        ## Fit the model using training data\n",
    "        model.fit(X_train,y_train)\n",
    "        ## Score the model using test data\n",
    "        model_score[name] = round(model.score(X_test,y_test)*100,2)\n",
    "    return model_score\n",
    "        \n",
    "model_scores = fit_and_score(model_dict,X_train,y_train,X_test,y_test)"
   ]
  },
  {
   "cell_type": "code",
   "execution_count": 118,
   "metadata": {},
   "outputs": [
    {
     "data": {
      "text/plain": [
       "{'Logistic Regression': 88.52,\n",
       " 'K Nearest Neighbors': 68.85,\n",
       " 'Random Forest Classifier': 83.61}"
      ]
     },
     "execution_count": 118,
     "metadata": {},
     "output_type": "execute_result"
    }
   ],
   "source": [
    "model_scores"
   ]
  },
  {
   "cell_type": "code",
   "execution_count": 120,
   "metadata": {},
   "outputs": [
    {
     "data": {
      "image/png": "[encoded data removed]",
      "text/plain": [
       "<Figure size 432x288 with 1 Axes>"
      ]
     },
     "metadata": {
      "needs_background": "light"
     },
     "output_type": "display_data"
    }
   ],
   "source": [
    "model_compare = pd.DataFrame(model_scores,index =[\"accuracy\"])\n",
    "model_compare.T.plot(kind = \"bar\");"
   ]
  },
  {
   "cell_type": "markdown",
   "metadata": {},
   "source": [
    "##Let us perform the following:\n",
    "1. Hyperparameter Tuning\n",
    "2. Feature Importance\n",
    "3. Confusion Matrix\n",
    "4. Classification Report\n",
    "5. Cross Validation Score\n",
    "6. Precision Score\n",
    "7. Recall Score\n",
    "8. F1 Score\n",
    "9. ROC curve\n",
    "10. Area under curve\n",
    "\n",
    "## Hyperparameter Tuning"
   ]
  },
  {
   "cell_type": "code",
   "execution_count": 123,
   "metadata": {},
   "outputs": [],
   "source": [
    "## Lets tune KNN\n",
    "train_scores=[]\n",
    "test_scores=[]\n",
    "\n",
    "neighbors = range(1,21)\n",
    "knn = KNeighborsClassifier()\n",
    "for i in neighbors:\n",
    "    knn.set_params(n_neighbors = i)\n",
    "    knn.fit(X_train,y_train)\n",
    "    train_scores.append(knn.score(X_train,y_train))\n",
    "    test_scores.append(knn.score(X_test, y_test))"
   ]
  },
  {
   "cell_type": "code",
   "execution_count": 124,
   "metadata": {},
   "outputs": [
    {
     "data": {
      "text/plain": [
       "[1.0,\n",
       " 0.8099173553719008,\n",
       " 0.7727272727272727,\n",
       " 0.743801652892562,\n",
       " 0.7603305785123967,\n",
       " 0.7520661157024794,\n",
       " 0.743801652892562,\n",
       " 0.7231404958677686,\n",
       " 0.71900826446281,\n",
       " 0.6942148760330579,\n",
       " 0.7272727272727273,\n",
       " 0.6983471074380165,\n",
       " 0.6900826446280992,\n",
       " 0.6942148760330579,\n",
       " 0.6859504132231405,\n",
       " 0.6735537190082644,\n",
       " 0.6859504132231405,\n",
       " 0.6652892561983471,\n",
       " 0.6818181818181818,\n",
       " 0.6694214876033058]"
      ]
     },
     "execution_count": 124,
     "metadata": {},
     "output_type": "execute_result"
    }
   ],
   "source": [
    "train_scores"
   ]
  },
  {
   "cell_type": "code",
   "execution_count": 125,
   "metadata": {},
   "outputs": [
    {
     "data": {
      "text/plain": [
       "[0.6229508196721312,\n",
       " 0.639344262295082,\n",
       " 0.6557377049180327,\n",
       " 0.6721311475409836,\n",
       " 0.6885245901639344,\n",
       " 0.7213114754098361,\n",
       " 0.7049180327868853,\n",
       " 0.6885245901639344,\n",
       " 0.6885245901639344,\n",
       " 0.7049180327868853,\n",
       " 0.7540983606557377,\n",
       " 0.7377049180327869,\n",
       " 0.7377049180327869,\n",
       " 0.7377049180327869,\n",
       " 0.6885245901639344,\n",
       " 0.7213114754098361,\n",
       " 0.6885245901639344,\n",
       " 0.6885245901639344,\n",
       " 0.7049180327868853,\n",
       " 0.6557377049180327]"
      ]
     },
     "execution_count": 125,
     "metadata": {},
     "output_type": "execute_result"
    }
   ],
   "source": [
    "test_scores"
   ]
  },
  {
   "cell_type": "code",
   "execution_count": 132,
   "metadata": {},
   "outputs": [
    {
     "name": "stdout",
     "output_type": "stream",
     "text": [
      "Maximum test score: 75.41%\n"
     ]
    },
    {
     "data": {
      "image/png": "[encoded data removed]",
      "text/plain": [
       "<Figure size 720x720 with 1 Axes>"
      ]
     },
     "metadata": {
      "needs_background": "light"
     },
     "output_type": "display_data"
    }
   ],
   "source": [
    "fig, ax = plt.subplots(figsize = (10,10))\n",
    "ax.plot(neighbors,train_scores,label = \"Train Score\")\n",
    "ax.plot(neighbors,test_scores,label = \"Test Score\")\n",
    "ax.set(title =\"KNN Training and Test Score\", xlabel = \"Neighbors\", ylabel = \"Scores\")\n",
    "ax.set_xlim(1,21)\n",
    "ax.legend()\n",
    "print(f'Maximum test score: {max(test_scores)*100:.2f}%')"
   ]
  },
  {
   "cell_type": "markdown",
   "metadata": {},
   "source": [
    "## Hyperparameter Tuning using RandomizedSearchCV\n",
    "\n",
    "Tune the following using RandomizedSearchCV\n",
    "1. LogisticRegression()\n",
    "2. RandomizedForestClassifier()"
   ]
  },
  {
   "cell_type": "code",
   "execution_count": 146,
   "metadata": {},
   "outputs": [],
   "source": [
    "RS_Random_grid={\"n_estimators\":np.arange(10,1000,50),\n",
    "                \"max_depth\": [None,3,5,10],\n",
    "                \"min_samples_split\":np.arange(1,20,2),\n",
    "                \"min_samples_leaf\":np.arange(2,20,2)\n",
    "               }\n",
    "clf = RandomForestClassifier()\n",
    "rs_random_model = RandomizedSearchCV(estimator = clf,param_distributions = RS_Random_grid,n_iter = 20,\n",
    "                              cv=5,verbose =2)"
   ]
  },
  {
   "cell_type": "code",
   "execution_count": 147,
   "metadata": {},
   "outputs": [
    {
     "name": "stdout",
     "output_type": "stream",
     "text": [
      "Fitting 5 folds for each of 20 candidates, totalling 100 fits\n",
      "[CV] n_estimators=710, min_samples_split=11, min_samples_leaf=6, max_depth=5 \n"
     ]
    },
    {
     "name": "stderr",
     "output_type": "stream",
     "text": [
      "[Parallel(n_jobs=1)]: Using backend SequentialBackend with 1 concurrent workers.\n"
     ]
    },
    {
     "name": "stdout",
     "output_type": "stream",
     "text": [
      "[CV]  n_estimators=710, min_samples_split=11, min_samples_leaf=6, max_depth=5, total=   1.0s\n",
      "[CV] n_estimators=710, min_samples_split=11, min_samples_leaf=6, max_depth=5 \n"
     ]
    },
    {
     "name": "stderr",
     "output_type": "stream",
     "text": [
      "[Parallel(n_jobs=1)]: Done   1 out of   1 | elapsed:    0.9s remaining:    0.0s\n"
     ]
    },
    {
     "name": "stdout",
     "output_type": "stream",
     "text": [
      "[CV]  n_estimators=710, min_samples_split=11, min_samples_leaf=6, max_depth=5, total=   0.9s\n",
      "[CV] n_estimators=710, min_samples_split=11, min_samples_leaf=6, max_depth=5 \n",
      "[CV]  n_estimators=710, min_samples_split=11, min_samples_leaf=6, max_depth=5, total=   0.9s\n",
      "[CV] n_estimators=710, min_samples_split=11, min_samples_leaf=6, max_depth=5 \n",
      "[CV]  n_estimators=710, min_samples_split=11, min_samples_leaf=6, max_depth=5, total=   1.4s\n",
      "[CV] n_estimators=710, min_samples_split=11, min_samples_leaf=6, max_depth=5 \n",
      "[CV]  n_estimators=710, min_samples_split=11, min_samples_leaf=6, max_depth=5, total=   1.0s\n",
      "[CV] n_estimators=810, min_samples_split=17, min_samples_leaf=18, max_depth=5 \n",
      "[CV]  n_estimators=810, min_samples_split=17, min_samples_leaf=18, max_depth=5, total=   1.1s\n",
      "[CV] n_estimators=810, min_samples_split=17, min_samples_leaf=18, max_depth=5 \n",
      "[CV]  n_estimators=810, min_samples_split=17, min_samples_leaf=18, max_depth=5, total=   1.1s\n",
      "[CV] n_estimators=810, min_samples_split=17, min_samples_leaf=18, max_depth=5 \n",
      "[CV]  n_estimators=810, min_samples_split=17, min_samples_leaf=18, max_depth=5, total=   1.1s\n",
      "[CV] n_estimators=810, min_samples_split=17, min_samples_leaf=18, max_depth=5 \n",
      "[CV]  n_estimators=810, min_samples_split=17, min_samples_leaf=18, max_depth=5, total=   1.1s\n",
      "[CV] n_estimators=810, min_samples_split=17, min_samples_leaf=18, max_depth=5 \n",
      "[CV]  n_estimators=810, min_samples_split=17, min_samples_leaf=18, max_depth=5, total=   1.1s\n",
      "[CV] n_estimators=360, min_samples_split=17, min_samples_leaf=16, max_depth=3 \n",
      "[CV]  n_estimators=360, min_samples_split=17, min_samples_leaf=16, max_depth=3, total=   0.5s\n",
      "[CV] n_estimators=360, min_samples_split=17, min_samples_leaf=16, max_depth=3 \n",
      "[CV]  n_estimators=360, min_samples_split=17, min_samples_leaf=16, max_depth=3, total=   0.6s\n",
      "[CV] n_estimators=360, min_samples_split=17, min_samples_leaf=16, max_depth=3 \n",
      "[CV]  n_estimators=360, min_samples_split=17, min_samples_leaf=16, max_depth=3, total=   0.5s\n",
      "[CV] n_estimators=360, min_samples_split=17, min_samples_leaf=16, max_depth=3 \n",
      "[CV]  n_estimators=360, min_samples_split=17, min_samples_leaf=16, max_depth=3, total=   0.6s\n",
      "[CV] n_estimators=360, min_samples_split=17, min_samples_leaf=16, max_depth=3 \n",
      "[CV]  n_estimators=360, min_samples_split=17, min_samples_leaf=16, max_depth=3, total=   0.6s\n",
      "[CV] n_estimators=60, min_samples_split=15, min_samples_leaf=16, max_depth=5 \n",
      "[CV]  n_estimators=60, min_samples_split=15, min_samples_leaf=16, max_depth=5, total=   0.1s\n",
      "[CV] n_estimators=60, min_samples_split=15, min_samples_leaf=16, max_depth=5 \n",
      "[CV]  n_estimators=60, min_samples_split=15, min_samples_leaf=16, max_depth=5, total=   0.1s\n",
      "[CV] n_estimators=60, min_samples_split=15, min_samples_leaf=16, max_depth=5 \n",
      "[CV]  n_estimators=60, min_samples_split=15, min_samples_leaf=16, max_depth=5, total=   0.1s\n",
      "[CV] n_estimators=60, min_samples_split=15, min_samples_leaf=16, max_depth=5 \n",
      "[CV]  n_estimators=60, min_samples_split=15, min_samples_leaf=16, max_depth=5, total=   0.1s\n",
      "[CV] n_estimators=60, min_samples_split=15, min_samples_leaf=16, max_depth=5 \n",
      "[CV]  n_estimators=60, min_samples_split=15, min_samples_leaf=16, max_depth=5, total=   0.1s\n",
      "[CV] n_estimators=560, min_samples_split=15, min_samples_leaf=4, max_depth=5 \n",
      "[CV]  n_estimators=560, min_samples_split=15, min_samples_leaf=4, max_depth=5, total=   0.8s\n",
      "[CV] n_estimators=560, min_samples_split=15, min_samples_leaf=4, max_depth=5 \n",
      "[CV]  n_estimators=560, min_samples_split=15, min_samples_leaf=4, max_depth=5, total=   0.8s\n",
      "[CV] n_estimators=560, min_samples_split=15, min_samples_leaf=4, max_depth=5 \n",
      "[CV]  n_estimators=560, min_samples_split=15, min_samples_leaf=4, max_depth=5, total=   0.9s\n",
      "[CV] n_estimators=560, min_samples_split=15, min_samples_leaf=4, max_depth=5 \n",
      "[CV]  n_estimators=560, min_samples_split=15, min_samples_leaf=4, max_depth=5, total=   0.8s\n",
      "[CV] n_estimators=560, min_samples_split=15, min_samples_leaf=4, max_depth=5 \n",
      "[CV]  n_estimators=560, min_samples_split=15, min_samples_leaf=4, max_depth=5, total=   0.8s\n",
      "[CV] n_estimators=210, min_samples_split=9, min_samples_leaf=16, max_depth=5 \n",
      "[CV]  n_estimators=210, min_samples_split=9, min_samples_leaf=16, max_depth=5, total=   0.3s\n",
      "[CV] n_estimators=210, min_samples_split=9, min_samples_leaf=16, max_depth=5 \n",
      "[CV]  n_estimators=210, min_samples_split=9, min_samples_leaf=16, max_depth=5, total=   0.3s\n",
      "[CV] n_estimators=210, min_samples_split=9, min_samples_leaf=16, max_depth=5 \n",
      "[CV]  n_estimators=210, min_samples_split=9, min_samples_leaf=16, max_depth=5, total=   0.3s\n",
      "[CV] n_estimators=210, min_samples_split=9, min_samples_leaf=16, max_depth=5 \n",
      "[CV]  n_estimators=210, min_samples_split=9, min_samples_leaf=16, max_depth=5, total=   0.3s\n",
      "[CV] n_estimators=210, min_samples_split=9, min_samples_leaf=16, max_depth=5 \n",
      "[CV]  n_estimators=210, min_samples_split=9, min_samples_leaf=16, max_depth=5, total=   0.3s\n",
      "[CV] n_estimators=860, min_samples_split=9, min_samples_leaf=8, max_depth=3 \n",
      "[CV]  n_estimators=860, min_samples_split=9, min_samples_leaf=8, max_depth=3, total=   1.2s\n",
      "[CV] n_estimators=860, min_samples_split=9, min_samples_leaf=8, max_depth=3 \n",
      "[CV]  n_estimators=860, min_samples_split=9, min_samples_leaf=8, max_depth=3, total=   1.2s\n",
      "[CV] n_estimators=860, min_samples_split=9, min_samples_leaf=8, max_depth=3 \n",
      "[CV]  n_estimators=860, min_samples_split=9, min_samples_leaf=8, max_depth=3, total=   1.2s\n",
      "[CV] n_estimators=860, min_samples_split=9, min_samples_leaf=8, max_depth=3 \n",
      "[CV]  n_estimators=860, min_samples_split=9, min_samples_leaf=8, max_depth=3, total=   1.2s\n",
      "[CV] n_estimators=860, min_samples_split=9, min_samples_leaf=8, max_depth=3 \n",
      "[CV]  n_estimators=860, min_samples_split=9, min_samples_leaf=8, max_depth=3, total=   1.2s\n",
      "[CV] n_estimators=760, min_samples_split=9, min_samples_leaf=14, max_depth=10 \n",
      "[CV]  n_estimators=760, min_samples_split=9, min_samples_leaf=14, max_depth=10, total=   1.0s\n",
      "[CV] n_estimators=760, min_samples_split=9, min_samples_leaf=14, max_depth=10 \n",
      "[CV]  n_estimators=760, min_samples_split=9, min_samples_leaf=14, max_depth=10, total=   1.0s\n",
      "[CV] n_estimators=760, min_samples_split=9, min_samples_leaf=14, max_depth=10 \n",
      "[CV]  n_estimators=760, min_samples_split=9, min_samples_leaf=14, max_depth=10, total=   1.0s\n",
      "[CV] n_estimators=760, min_samples_split=9, min_samples_leaf=14, max_depth=10 \n",
      "[CV]  n_estimators=760, min_samples_split=9, min_samples_leaf=14, max_depth=10, total=   1.4s\n",
      "[CV] n_estimators=760, min_samples_split=9, min_samples_leaf=14, max_depth=10 \n",
      "[CV]  n_estimators=760, min_samples_split=9, min_samples_leaf=14, max_depth=10, total=   1.2s\n",
      "[CV] n_estimators=660, min_samples_split=17, min_samples_leaf=16, max_depth=None \n",
      "[CV]  n_estimators=660, min_samples_split=17, min_samples_leaf=16, max_depth=None, total=   0.9s\n",
      "[CV] n_estimators=660, min_samples_split=17, min_samples_leaf=16, max_depth=None \n",
      "[CV]  n_estimators=660, min_samples_split=17, min_samples_leaf=16, max_depth=None, total=   0.9s\n",
      "[CV] n_estimators=660, min_samples_split=17, min_samples_leaf=16, max_depth=None \n",
      "[CV]  n_estimators=660, min_samples_split=17, min_samples_leaf=16, max_depth=None, total=   0.9s\n",
      "[CV] n_estimators=660, min_samples_split=17, min_samples_leaf=16, max_depth=None \n",
      "[CV]  n_estimators=660, min_samples_split=17, min_samples_leaf=16, max_depth=None, total=   0.9s\n",
      "[CV] n_estimators=660, min_samples_split=17, min_samples_leaf=16, max_depth=None \n",
      "[CV]  n_estimators=660, min_samples_split=17, min_samples_leaf=16, max_depth=None, total=   1.0s\n",
      "[CV] n_estimators=360, min_samples_split=17, min_samples_leaf=16, max_depth=5 \n",
      "[CV]  n_estimators=360, min_samples_split=17, min_samples_leaf=16, max_depth=5, total=   0.6s\n",
      "[CV] n_estimators=360, min_samples_split=17, min_samples_leaf=16, max_depth=5 \n",
      "[CV]  n_estimators=360, min_samples_split=17, min_samples_leaf=16, max_depth=5, total=   0.6s\n",
      "[CV] n_estimators=360, min_samples_split=17, min_samples_leaf=16, max_depth=5 \n",
      "[CV]  n_estimators=360, min_samples_split=17, min_samples_leaf=16, max_depth=5, total=   0.7s\n",
      "[CV] n_estimators=360, min_samples_split=17, min_samples_leaf=16, max_depth=5 \n",
      "[CV]  n_estimators=360, min_samples_split=17, min_samples_leaf=16, max_depth=5, total=   0.5s\n",
      "[CV] n_estimators=360, min_samples_split=17, min_samples_leaf=16, max_depth=5 \n"
     ]
    },
    {
     "name": "stdout",
     "output_type": "stream",
     "text": [
      "[CV]  n_estimators=360, min_samples_split=17, min_samples_leaf=16, max_depth=5, total=   0.5s\n",
      "[CV] n_estimators=910, min_samples_split=3, min_samples_leaf=16, max_depth=10 \n",
      "[CV]  n_estimators=910, min_samples_split=3, min_samples_leaf=16, max_depth=10, total=   1.3s\n",
      "[CV] n_estimators=910, min_samples_split=3, min_samples_leaf=16, max_depth=10 \n",
      "[CV]  n_estimators=910, min_samples_split=3, min_samples_leaf=16, max_depth=10, total=   1.3s\n",
      "[CV] n_estimators=910, min_samples_split=3, min_samples_leaf=16, max_depth=10 \n",
      "[CV]  n_estimators=910, min_samples_split=3, min_samples_leaf=16, max_depth=10, total=   1.2s\n",
      "[CV] n_estimators=910, min_samples_split=3, min_samples_leaf=16, max_depth=10 \n",
      "[CV]  n_estimators=910, min_samples_split=3, min_samples_leaf=16, max_depth=10, total=   1.2s\n",
      "[CV] n_estimators=910, min_samples_split=3, min_samples_leaf=16, max_depth=10 \n",
      "[CV]  n_estimators=910, min_samples_split=3, min_samples_leaf=16, max_depth=10, total=   1.2s\n",
      "[CV] n_estimators=710, min_samples_split=3, min_samples_leaf=10, max_depth=3 \n",
      "[CV]  n_estimators=710, min_samples_split=3, min_samples_leaf=10, max_depth=3, total=   1.0s\n",
      "[CV] n_estimators=710, min_samples_split=3, min_samples_leaf=10, max_depth=3 \n",
      "[CV]  n_estimators=710, min_samples_split=3, min_samples_leaf=10, max_depth=3, total=   1.0s\n",
      "[CV] n_estimators=710, min_samples_split=3, min_samples_leaf=10, max_depth=3 \n",
      "[CV]  n_estimators=710, min_samples_split=3, min_samples_leaf=10, max_depth=3, total=   1.2s\n",
      "[CV] n_estimators=710, min_samples_split=3, min_samples_leaf=10, max_depth=3 \n",
      "[CV]  n_estimators=710, min_samples_split=3, min_samples_leaf=10, max_depth=3, total=   1.0s\n",
      "[CV] n_estimators=710, min_samples_split=3, min_samples_leaf=10, max_depth=3 \n",
      "[CV]  n_estimators=710, min_samples_split=3, min_samples_leaf=10, max_depth=3, total=   1.0s\n",
      "[CV] n_estimators=410, min_samples_split=17, min_samples_leaf=10, max_depth=3 \n",
      "[CV]  n_estimators=410, min_samples_split=17, min_samples_leaf=10, max_depth=3, total=   0.6s\n",
      "[CV] n_estimators=410, min_samples_split=17, min_samples_leaf=10, max_depth=3 \n",
      "[CV]  n_estimators=410, min_samples_split=17, min_samples_leaf=10, max_depth=3, total=   0.6s\n",
      "[CV] n_estimators=410, min_samples_split=17, min_samples_leaf=10, max_depth=3 \n",
      "[CV]  n_estimators=410, min_samples_split=17, min_samples_leaf=10, max_depth=3, total=   0.6s\n",
      "[CV] n_estimators=410, min_samples_split=17, min_samples_leaf=10, max_depth=3 \n",
      "[CV]  n_estimators=410, min_samples_split=17, min_samples_leaf=10, max_depth=3, total=   0.6s\n",
      "[CV] n_estimators=410, min_samples_split=17, min_samples_leaf=10, max_depth=3 \n",
      "[CV]  n_estimators=410, min_samples_split=17, min_samples_leaf=10, max_depth=3, total=   0.6s\n",
      "[CV] n_estimators=110, min_samples_split=11, min_samples_leaf=18, max_depth=5 \n",
      "[CV]  n_estimators=110, min_samples_split=11, min_samples_leaf=18, max_depth=5, total=   0.2s\n",
      "[CV] n_estimators=110, min_samples_split=11, min_samples_leaf=18, max_depth=5 \n",
      "[CV]  n_estimators=110, min_samples_split=11, min_samples_leaf=18, max_depth=5, total=   0.2s\n",
      "[CV] n_estimators=110, min_samples_split=11, min_samples_leaf=18, max_depth=5 \n",
      "[CV]  n_estimators=110, min_samples_split=11, min_samples_leaf=18, max_depth=5, total=   0.2s\n",
      "[CV] n_estimators=110, min_samples_split=11, min_samples_leaf=18, max_depth=5 \n",
      "[CV]  n_estimators=110, min_samples_split=11, min_samples_leaf=18, max_depth=5, total=   0.2s\n",
      "[CV] n_estimators=110, min_samples_split=11, min_samples_leaf=18, max_depth=5 \n",
      "[CV]  n_estimators=110, min_samples_split=11, min_samples_leaf=18, max_depth=5, total=   0.1s\n",
      "[CV] n_estimators=710, min_samples_split=15, min_samples_leaf=2, max_depth=10 \n",
      "[CV]  n_estimators=710, min_samples_split=15, min_samples_leaf=2, max_depth=10, total=   1.0s\n",
      "[CV] n_estimators=710, min_samples_split=15, min_samples_leaf=2, max_depth=10 \n",
      "[CV]  n_estimators=710, min_samples_split=15, min_samples_leaf=2, max_depth=10, total=   1.0s\n",
      "[CV] n_estimators=710, min_samples_split=15, min_samples_leaf=2, max_depth=10 \n",
      "[CV]  n_estimators=710, min_samples_split=15, min_samples_leaf=2, max_depth=10, total=   1.0s\n",
      "[CV] n_estimators=710, min_samples_split=15, min_samples_leaf=2, max_depth=10 \n",
      "[CV]  n_estimators=710, min_samples_split=15, min_samples_leaf=2, max_depth=10, total=   1.0s\n",
      "[CV] n_estimators=710, min_samples_split=15, min_samples_leaf=2, max_depth=10 \n",
      "[CV]  n_estimators=710, min_samples_split=15, min_samples_leaf=2, max_depth=10, total=   1.0s\n",
      "[CV] n_estimators=510, min_samples_split=5, min_samples_leaf=10, max_depth=10 \n",
      "[CV]  n_estimators=510, min_samples_split=5, min_samples_leaf=10, max_depth=10, total=   0.7s\n",
      "[CV] n_estimators=510, min_samples_split=5, min_samples_leaf=10, max_depth=10 \n",
      "[CV]  n_estimators=510, min_samples_split=5, min_samples_leaf=10, max_depth=10, total=   0.7s\n",
      "[CV] n_estimators=510, min_samples_split=5, min_samples_leaf=10, max_depth=10 \n",
      "[CV]  n_estimators=510, min_samples_split=5, min_samples_leaf=10, max_depth=10, total=   0.7s\n",
      "[CV] n_estimators=510, min_samples_split=5, min_samples_leaf=10, max_depth=10 \n",
      "[CV]  n_estimators=510, min_samples_split=5, min_samples_leaf=10, max_depth=10, total=   0.7s\n",
      "[CV] n_estimators=510, min_samples_split=5, min_samples_leaf=10, max_depth=10 \n",
      "[CV]  n_estimators=510, min_samples_split=5, min_samples_leaf=10, max_depth=10, total=   0.7s\n",
      "[CV] n_estimators=560, min_samples_split=1, min_samples_leaf=14, max_depth=None \n"
     ]
    },
    {
     "name": "stderr",
     "output_type": "stream",
     "text": [
      "C:\\Users\\srengaraman\\machinelearning\\sample-project\\heart-disease-project\\env\\lib\\site-packages\\sklearn\\model_selection\\_validation.py:532: FitFailedWarning: Estimator fit failed. The score on this train-test partition for these parameters will be set to nan. Details: \n",
      "ValueError: min_samples_split must be an integer greater than 1 or a float in (0.0, 1.0]; got the integer 1\n",
      "\n",
      "  warnings.warn(\"Estimator fit failed. The score on this train-test\"\n"
     ]
    },
    {
     "name": "stdout",
     "output_type": "stream",
     "text": [
      "[CV]  n_estimators=560, min_samples_split=1, min_samples_leaf=14, max_depth=None, total=   0.2s\n",
      "[CV] n_estimators=560, min_samples_split=1, min_samples_leaf=14, max_depth=None \n"
     ]
    },
    {
     "name": "stderr",
     "output_type": "stream",
     "text": [
      "C:\\Users\\srengaraman\\machinelearning\\sample-project\\heart-disease-project\\env\\lib\\site-packages\\sklearn\\model_selection\\_validation.py:532: FitFailedWarning: Estimator fit failed. The score on this train-test partition for these parameters will be set to nan. Details: \n",
      "ValueError: min_samples_split must be an integer greater than 1 or a float in (0.0, 1.0]; got the integer 1\n",
      "\n",
      "  warnings.warn(\"Estimator fit failed. The score on this train-test\"\n"
     ]
    },
    {
     "name": "stdout",
     "output_type": "stream",
     "text": [
      "[CV]  n_estimators=560, min_samples_split=1, min_samples_leaf=14, max_depth=None, total=   0.2s\n",
      "[CV] n_estimators=560, min_samples_split=1, min_samples_leaf=14, max_depth=None \n"
     ]
    },
    {
     "name": "stderr",
     "output_type": "stream",
     "text": [
      "C:\\Users\\srengaraman\\machinelearning\\sample-project\\heart-disease-project\\env\\lib\\site-packages\\sklearn\\model_selection\\_validation.py:532: FitFailedWarning: Estimator fit failed. The score on this train-test partition for these parameters will be set to nan. Details: \n",
      "ValueError: min_samples_split must be an integer greater than 1 or a float in (0.0, 1.0]; got the integer 1\n",
      "\n",
      "  warnings.warn(\"Estimator fit failed. The score on this train-test\"\n"
     ]
    },
    {
     "name": "stdout",
     "output_type": "stream",
     "text": [
      "[CV]  n_estimators=560, min_samples_split=1, min_samples_leaf=14, max_depth=None, total=   0.2s\n",
      "[CV] n_estimators=560, min_samples_split=1, min_samples_leaf=14, max_depth=None \n"
     ]
    },
    {
     "name": "stderr",
     "output_type": "stream",
     "text": [
      "C:\\Users\\srengaraman\\machinelearning\\sample-project\\heart-disease-project\\env\\lib\\site-packages\\sklearn\\model_selection\\_validation.py:532: FitFailedWarning: Estimator fit failed. The score on this train-test partition for these parameters will be set to nan. Details: \n",
      "ValueError: min_samples_split must be an integer greater than 1 or a float in (0.0, 1.0]; got the integer 1\n",
      "\n",
      "  warnings.warn(\"Estimator fit failed. The score on this train-test\"\n",
      "C:\\Users\\srengaraman\\machinelearning\\sample-project\\heart-disease-project\\env\\lib\\site-packages\\sklearn\\model_selection\\_validation.py:532: FitFailedWarning: Estimator fit failed. The score on this train-test partition for these parameters will be set to nan. Details: \n",
      "ValueError: min_samples_split must be an integer greater than 1 or a float in (0.0, 1.0]; got the integer 1\n",
      "\n",
      "  warnings.warn(\"Estimator fit failed. The score on this train-test\"\n"
     ]
    },
    {
     "name": "stdout",
     "output_type": "stream",
     "text": [
      "[CV]  n_estimators=560, min_samples_split=1, min_samples_leaf=14, max_depth=None, total=   0.2s\n",
      "[CV] n_estimators=560, min_samples_split=1, min_samples_leaf=14, max_depth=None \n",
      "[CV]  n_estimators=560, min_samples_split=1, min_samples_leaf=14, max_depth=None, total=   0.2s\n",
      "[CV] n_estimators=760, min_samples_split=17, min_samples_leaf=8, max_depth=None \n",
      "[CV]  n_estimators=760, min_samples_split=17, min_samples_leaf=8, max_depth=None, total=   1.0s\n",
      "[CV] n_estimators=760, min_samples_split=17, min_samples_leaf=8, max_depth=None \n",
      "[CV]  n_estimators=760, min_samples_split=17, min_samples_leaf=8, max_depth=None, total=   1.0s\n",
      "[CV] n_estimators=760, min_samples_split=17, min_samples_leaf=8, max_depth=None \n",
      "[CV]  n_estimators=760, min_samples_split=17, min_samples_leaf=8, max_depth=None, total=   1.1s\n",
      "[CV] n_estimators=760, min_samples_split=17, min_samples_leaf=8, max_depth=None \n",
      "[CV]  n_estimators=760, min_samples_split=17, min_samples_leaf=8, max_depth=None, total=   1.1s\n",
      "[CV] n_estimators=760, min_samples_split=17, min_samples_leaf=8, max_depth=None \n",
      "[CV]  n_estimators=760, min_samples_split=17, min_samples_leaf=8, max_depth=None, total=   1.0s\n",
      "[CV] n_estimators=760, min_samples_split=15, min_samples_leaf=6, max_depth=10 \n",
      "[CV]  n_estimators=760, min_samples_split=15, min_samples_leaf=6, max_depth=10, total=   1.0s\n",
      "[CV] n_estimators=760, min_samples_split=15, min_samples_leaf=6, max_depth=10 \n",
      "[CV]  n_estimators=760, min_samples_split=15, min_samples_leaf=6, max_depth=10, total=   1.0s\n",
      "[CV] n_estimators=760, min_samples_split=15, min_samples_leaf=6, max_depth=10 \n",
      "[CV]  n_estimators=760, min_samples_split=15, min_samples_leaf=6, max_depth=10, total=   1.1s\n",
      "[CV] n_estimators=760, min_samples_split=15, min_samples_leaf=6, max_depth=10 \n",
      "[CV]  n_estimators=760, min_samples_split=15, min_samples_leaf=6, max_depth=10, total=   1.1s\n",
      "[CV] n_estimators=760, min_samples_split=15, min_samples_leaf=6, max_depth=10 \n",
      "[CV]  n_estimators=760, min_samples_split=15, min_samples_leaf=6, max_depth=10, total=   1.0s\n",
      "[CV] n_estimators=110, min_samples_split=17, min_samples_leaf=6, max_depth=10 \n",
      "[CV]  n_estimators=110, min_samples_split=17, min_samples_leaf=6, max_depth=10, total=   0.2s\n",
      "[CV] n_estimators=110, min_samples_split=17, min_samples_leaf=6, max_depth=10 \n",
      "[CV]  n_estimators=110, min_samples_split=17, min_samples_leaf=6, max_depth=10, total=   0.2s\n",
      "[CV] n_estimators=110, min_samples_split=17, min_samples_leaf=6, max_depth=10 \n",
      "[CV]  n_estimators=110, min_samples_split=17, min_samples_leaf=6, max_depth=10, total=   0.2s\n",
      "[CV] n_estimators=110, min_samples_split=17, min_samples_leaf=6, max_depth=10 \n",
      "[CV]  n_estimators=110, min_samples_split=17, min_samples_leaf=6, max_depth=10, total=   0.2s\n",
      "[CV] n_estimators=110, min_samples_split=17, min_samples_leaf=6, max_depth=10 \n",
      "[CV]  n_estimators=110, min_samples_split=17, min_samples_leaf=6, max_depth=10, total=   0.1s\n"
     ]
    },
    {
     "name": "stderr",
     "output_type": "stream",
     "text": [
      "[Parallel(n_jobs=1)]: Done 100 out of 100 | elapsed:  1.2min finished\n"
     ]
    },
    {
     "data": {
      "text/plain": [
       "0.8688524590163934"
      ]
     },
     "execution_count": 147,
     "metadata": {},
     "output_type": "execute_result"
    }
   ],
   "source": [
    "rs_random_model.fit(X_train,y_train)\n",
    "rs_random_model.score(X_test,y_test)"
   ]
  },
  {
   "cell_type": "code",
   "execution_count": 148,
   "metadata": {},
   "outputs": [],
   "source": [
    "RS_log_grid ={\"C\":np.logspace(-4,4,20),\n",
    "             \"solver\":[\"liblinear\"]}\n",
    "log_reg = LogisticRegression()\n",
    "rs_log_model = RandomizedSearchCV(estimator = log_reg,param_distributions = RS_log_grid,n_iter = 20,\n",
    "                              cv=5,verbose =2)"
   ]
  },
  {
   "cell_type": "code",
   "execution_count": 149,
   "metadata": {},
   "outputs": [
    {
     "name": "stdout",
     "output_type": "stream",
     "text": [
      "Fitting 5 folds for each of 20 candidates, totalling 100 fits\n",
      "[CV] solver=liblinear, C=0.0001 ......................................\n",
      "[CV] ....................... solver=liblinear, C=0.0001, total=   0.0s\n",
      "[CV] solver=liblinear, C=0.0001 ......................................\n",
      "[CV] ....................... solver=liblinear, C=0.0001, total=   0.0s\n",
      "[CV] solver=liblinear, C=0.0001 ......................................\n",
      "[CV] ....................... solver=liblinear, C=0.0001, total=   0.0s\n",
      "[CV] solver=liblinear, C=0.0001 ......................................\n",
      "[CV] ....................... solver=liblinear, C=0.0001, total=   0.0s\n",
      "[CV] solver=liblinear, C=0.0001 ......................................\n",
      "[CV] ....................... solver=liblinear, C=0.0001, total=   0.0s\n",
      "[CV] solver=liblinear, C=0.00026366508987303583 ......................\n",
      "[CV] ....... solver=liblinear, C=0.00026366508987303583, total=   0.0s\n",
      "[CV] solver=liblinear, C=0.00026366508987303583 ......................\n",
      "[CV] ....... solver=liblinear, C=0.00026366508987303583, total=   0.0s\n",
      "[CV] solver=liblinear, C=0.00026366508987303583 ......................\n",
      "[CV] ....... solver=liblinear, C=0.00026366508987303583, total=   0.0s\n",
      "[CV] solver=liblinear, C=0.00026366508987303583 ......................\n",
      "[CV] ....... solver=liblinear, C=0.00026366508987303583, total=   0.0s\n",
      "[CV] solver=liblinear, C=0.00026366508987303583 ......................\n",
      "[CV] ....... solver=liblinear, C=0.00026366508987303583, total=   0.0s\n",
      "[CV] solver=liblinear, C=0.0006951927961775605 .......................\n",
      "[CV] ........ solver=liblinear, C=0.0006951927961775605, total=   0.0s\n",
      "[CV] solver=liblinear, C=0.0006951927961775605 .......................\n",
      "[CV] ........ solver=liblinear, C=0.0006951927961775605, total=   0.0s\n",
      "[CV] solver=liblinear, C=0.0006951927961775605 .......................\n",
      "[CV] ........ solver=liblinear, C=0.0006951927961775605, total=   0.0s\n",
      "[CV] solver=liblinear, C=0.0006951927961775605 .......................\n",
      "[CV] ........ solver=liblinear, C=0.0006951927961775605, total=   0.0s\n",
      "[CV] solver=liblinear, C=0.0006951927961775605 .......................\n",
      "[CV] ........ solver=liblinear, C=0.0006951927961775605, total=   0.0s\n",
      "[CV] solver=liblinear, C=0.0018329807108324356 .......................\n",
      "[CV] ........ solver=liblinear, C=0.0018329807108324356, total=   0.0s\n",
      "[CV] solver=liblinear, C=0.0018329807108324356 .......................\n",
      "[CV] ........ solver=liblinear, C=0.0018329807108324356, total=   0.0s\n",
      "[CV] solver=liblinear, C=0.0018329807108324356 .......................\n",
      "[CV] ........ solver=liblinear, C=0.0018329807108324356, total=   0.0s\n",
      "[CV] solver=liblinear, C=0.0018329807108324356 .......................\n",
      "[CV] ........ solver=liblinear, C=0.0018329807108324356, total=   0.0s\n",
      "[CV] solver=liblinear, C=0.0018329807108324356 .......................\n",
      "[CV] ........ solver=liblinear, C=0.0018329807108324356, total=   0.0s\n",
      "[CV] solver=liblinear, C=0.004832930238571752 ........................\n",
      "[CV] ......... solver=liblinear, C=0.004832930238571752, total=   0.0s\n",
      "[CV] solver=liblinear, C=0.004832930238571752 ........................\n",
      "[CV] ......... solver=liblinear, C=0.004832930238571752, total=   0.0s\n",
      "[CV] solver=liblinear, C=0.004832930238571752 ........................\n",
      "[CV] ......... solver=liblinear, C=0.004832930238571752, total=   0.0s\n",
      "[CV] solver=liblinear, C=0.004832930238571752 ........................\n",
      "[CV] ......... solver=liblinear, C=0.004832930238571752, total=   0.0s\n",
      "[CV] solver=liblinear, C=0.004832930238571752 ........................\n",
      "[CV] ......... solver=liblinear, C=0.004832930238571752, total=   0.0s\n",
      "[CV] solver=liblinear, C=0.012742749857031334 ........................\n",
      "[CV] ......... solver=liblinear, C=0.012742749857031334, total=   0.0s\n",
      "[CV] solver=liblinear, C=0.012742749857031334 ........................\n",
      "[CV] ......... solver=liblinear, C=0.012742749857031334, total=   0.0s\n",
      "[CV] solver=liblinear, C=0.012742749857031334 ........................\n",
      "[CV] ......... solver=liblinear, C=0.012742749857031334, total=   0.0s\n",
      "[CV] solver=liblinear, C=0.012742749857031334 ........................\n",
      "[CV] ......... solver=liblinear, C=0.012742749857031334, total=   0.0s\n",
      "[CV] solver=liblinear, C=0.012742749857031334 ........................\n",
      "[CV] ......... solver=liblinear, C=0.012742749857031334, total=   0.0s\n",
      "[CV] solver=liblinear, C=0.03359818286283781 .........................\n",
      "[CV] .......... solver=liblinear, C=0.03359818286283781, total=   0.0s\n",
      "[CV] solver=liblinear, C=0.03359818286283781 .........................\n",
      "[CV] .......... solver=liblinear, C=0.03359818286283781, total=   0.0s\n",
      "[CV] solver=liblinear, C=0.03359818286283781 .........................\n",
      "[CV] .......... solver=liblinear, C=0.03359818286283781, total=   0.0s\n",
      "[CV] solver=liblinear, C=0.03359818286283781 .........................\n",
      "[CV] .......... solver=liblinear, C=0.03359818286283781, total=   0.0s\n",
      "[CV] solver=liblinear, C=0.03359818286283781 .........................\n",
      "[CV] .......... solver=liblinear, C=0.03359818286283781, total=   0.0s\n",
      "[CV] solver=liblinear, C=0.08858667904100823 .........................\n",
      "[CV] .......... solver=liblinear, C=0.08858667904100823, total=   0.0s\n",
      "[CV] solver=liblinear, C=0.08858667904100823 .........................\n",
      "[CV] .......... solver=liblinear, C=0.08858667904100823, total=   0.0s\n",
      "[CV] solver=liblinear, C=0.08858667904100823 .........................\n",
      "[CV] .......... solver=liblinear, C=0.08858667904100823, total=   0.0s\n",
      "[CV] solver=liblinear, C=0.08858667904100823 .........................\n"
     ]
    },
    {
     "name": "stderr",
     "output_type": "stream",
     "text": [
      "[Parallel(n_jobs=1)]: Using backend SequentialBackend with 1 concurrent workers.\n",
      "[Parallel(n_jobs=1)]: Done   1 out of   1 | elapsed:    0.0s remaining:    0.0s\n"
     ]
    },
    {
     "name": "stdout",
     "output_type": "stream",
     "text": [
      "[CV] .......... solver=liblinear, C=0.08858667904100823, total=   0.0s\n",
      "[CV] solver=liblinear, C=0.08858667904100823 .........................\n",
      "[CV] .......... solver=liblinear, C=0.08858667904100823, total=   0.0s\n",
      "[CV] solver=liblinear, C=0.23357214690901212 .........................\n",
      "[CV] .......... solver=liblinear, C=0.23357214690901212, total=   0.0s\n",
      "[CV] solver=liblinear, C=0.23357214690901212 .........................\n",
      "[CV] .......... solver=liblinear, C=0.23357214690901212, total=   0.0s\n",
      "[CV] solver=liblinear, C=0.23357214690901212 .........................\n",
      "[CV] .......... solver=liblinear, C=0.23357214690901212, total=   0.0s\n",
      "[CV] solver=liblinear, C=0.23357214690901212 .........................\n",
      "[CV] .......... solver=liblinear, C=0.23357214690901212, total=   0.0s\n",
      "[CV] solver=liblinear, C=0.23357214690901212 .........................\n",
      "[CV] .......... solver=liblinear, C=0.23357214690901212, total=   0.0s\n",
      "[CV] solver=liblinear, C=0.615848211066026 ...........................\n",
      "[CV] ............ solver=liblinear, C=0.615848211066026, total=   0.0s\n",
      "[CV] solver=liblinear, C=0.615848211066026 ...........................\n",
      "[CV] ............ solver=liblinear, C=0.615848211066026, total=   0.0s\n",
      "[CV] solver=liblinear, C=0.615848211066026 ...........................\n",
      "[CV] ............ solver=liblinear, C=0.615848211066026, total=   0.0s\n",
      "[CV] solver=liblinear, C=0.615848211066026 ...........................\n",
      "[CV] ............ solver=liblinear, C=0.615848211066026, total=   0.0s\n",
      "[CV] solver=liblinear, C=0.615848211066026 ...........................\n",
      "[CV] ............ solver=liblinear, C=0.615848211066026, total=   0.0s\n",
      "[CV] solver=liblinear, C=1.623776739188721 ...........................\n",
      "[CV] ............ solver=liblinear, C=1.623776739188721, total=   0.0s\n",
      "[CV] solver=liblinear, C=1.623776739188721 ...........................\n",
      "[CV] ............ solver=liblinear, C=1.623776739188721, total=   0.0s\n",
      "[CV] solver=liblinear, C=1.623776739188721 ...........................\n",
      "[CV] ............ solver=liblinear, C=1.623776739188721, total=   0.0s\n",
      "[CV] solver=liblinear, C=1.623776739188721 ...........................\n",
      "[CV] ............ solver=liblinear, C=1.623776739188721, total=   0.0s\n",
      "[CV] solver=liblinear, C=1.623776739188721 ...........................\n",
      "[CV] ............ solver=liblinear, C=1.623776739188721, total=   0.0s\n",
      "[CV] solver=liblinear, C=4.281332398719396 ...........................\n",
      "[CV] ............ solver=liblinear, C=4.281332398719396, total=   0.0s\n",
      "[CV] solver=liblinear, C=4.281332398719396 ...........................\n",
      "[CV] ............ solver=liblinear, C=4.281332398719396, total=   0.0s\n",
      "[CV] solver=liblinear, C=4.281332398719396 ...........................\n",
      "[CV] ............ solver=liblinear, C=4.281332398719396, total=   0.0s\n",
      "[CV] solver=liblinear, C=4.281332398719396 ...........................\n",
      "[CV] ............ solver=liblinear, C=4.281332398719396, total=   0.0s\n",
      "[CV] solver=liblinear, C=4.281332398719396 ...........................\n",
      "[CV] ............ solver=liblinear, C=4.281332398719396, total=   0.0s\n",
      "[CV] solver=liblinear, C=11.288378916846883 ..........................\n",
      "[CV] ........... solver=liblinear, C=11.288378916846883, total=   0.0s\n",
      "[CV] solver=liblinear, C=11.288378916846883 ..........................\n",
      "[CV] ........... solver=liblinear, C=11.288378916846883, total=   0.0s\n",
      "[CV] solver=liblinear, C=11.288378916846883 ..........................\n",
      "[CV] ........... solver=liblinear, C=11.288378916846883, total=   0.0s\n",
      "[CV] solver=liblinear, C=11.288378916846883 ..........................\n",
      "[CV] ........... solver=liblinear, C=11.288378916846883, total=   0.0s\n",
      "[CV] solver=liblinear, C=11.288378916846883 ..........................\n",
      "[CV] ........... solver=liblinear, C=11.288378916846883, total=   0.0s\n",
      "[CV] solver=liblinear, C=29.763514416313132 ..........................\n",
      "[CV] ........... solver=liblinear, C=29.763514416313132, total=   0.0s\n",
      "[CV] solver=liblinear, C=29.763514416313132 ..........................\n",
      "[CV] ........... solver=liblinear, C=29.763514416313132, total=   0.0s\n",
      "[CV] solver=liblinear, C=29.763514416313132 ..........................\n",
      "[CV] ........... solver=liblinear, C=29.763514416313132, total=   0.0s\n",
      "[CV] solver=liblinear, C=29.763514416313132 ..........................\n",
      "[CV] ........... solver=liblinear, C=29.763514416313132, total=   0.0s\n",
      "[CV] solver=liblinear, C=29.763514416313132 ..........................\n",
      "[CV] ........... solver=liblinear, C=29.763514416313132, total=   0.0s\n",
      "[CV] solver=liblinear, C=78.47599703514607 ...........................\n",
      "[CV] ............ solver=liblinear, C=78.47599703514607, total=   0.0s\n",
      "[CV] solver=liblinear, C=78.47599703514607 ...........................\n",
      "[CV] ............ solver=liblinear, C=78.47599703514607, total=   0.0s\n",
      "[CV] solver=liblinear, C=78.47599703514607 ...........................\n",
      "[CV] ............ solver=liblinear, C=78.47599703514607, total=   0.0s\n",
      "[CV] solver=liblinear, C=78.47599703514607 ...........................\n",
      "[CV] ............ solver=liblinear, C=78.47599703514607, total=   0.0s\n",
      "[CV] solver=liblinear, C=78.47599703514607 ...........................\n",
      "[CV] ............ solver=liblinear, C=78.47599703514607, total=   0.0s\n",
      "[CV] solver=liblinear, C=206.913808111479 ............................\n",
      "[CV] ............. solver=liblinear, C=206.913808111479, total=   0.0s\n",
      "[CV] solver=liblinear, C=206.913808111479 ............................\n",
      "[CV] ............. solver=liblinear, C=206.913808111479, total=   0.0s\n",
      "[CV] solver=liblinear, C=206.913808111479 ............................\n",
      "[CV] ............. solver=liblinear, C=206.913808111479, total=   0.0s\n",
      "[CV] solver=liblinear, C=206.913808111479 ............................\n",
      "[CV] ............. solver=liblinear, C=206.913808111479, total=   0.0s\n",
      "[CV] solver=liblinear, C=206.913808111479 ............................\n",
      "[CV] ............. solver=liblinear, C=206.913808111479, total=   0.0s\n",
      "[CV] solver=liblinear, C=545.5594781168514 ...........................\n",
      "[CV] ............ solver=liblinear, C=545.5594781168514, total=   0.0s\n",
      "[CV] solver=liblinear, C=545.5594781168514 ...........................\n",
      "[CV] ............ solver=liblinear, C=545.5594781168514, total=   0.0s\n",
      "[CV] solver=liblinear, C=545.5594781168514 ...........................\n",
      "[CV] ............ solver=liblinear, C=545.5594781168514, total=   0.0s\n",
      "[CV] solver=liblinear, C=545.5594781168514 ...........................\n",
      "[CV] ............ solver=liblinear, C=545.5594781168514, total=   0.0s\n",
      "[CV] solver=liblinear, C=545.5594781168514 ...........................\n",
      "[CV] ............ solver=liblinear, C=545.5594781168514, total=   0.0s\n",
      "[CV] solver=liblinear, C=1438.44988828766 ............................\n",
      "[CV] ............. solver=liblinear, C=1438.44988828766, total=   0.0s\n",
      "[CV] solver=liblinear, C=1438.44988828766 ............................\n",
      "[CV] ............. solver=liblinear, C=1438.44988828766, total=   0.0s\n",
      "[CV] solver=liblinear, C=1438.44988828766 ............................\n",
      "[CV] ............. solver=liblinear, C=1438.44988828766, total=   0.0s\n",
      "[CV] solver=liblinear, C=1438.44988828766 ............................\n",
      "[CV] ............. solver=liblinear, C=1438.44988828766, total=   0.0s\n",
      "[CV] solver=liblinear, C=1438.44988828766 ............................\n",
      "[CV] ............. solver=liblinear, C=1438.44988828766, total=   0.0s\n",
      "[CV] solver=liblinear, C=3792.690190732246 ...........................\n",
      "[CV] ............ solver=liblinear, C=3792.690190732246, total=   0.0s\n",
      "[CV] solver=liblinear, C=3792.690190732246 ...........................\n",
      "[CV] ............ solver=liblinear, C=3792.690190732246, total=   0.0s\n",
      "[CV] solver=liblinear, C=3792.690190732246 ...........................\n",
      "[CV] ............ solver=liblinear, C=3792.690190732246, total=   0.0s\n",
      "[CV] solver=liblinear, C=3792.690190732246 ...........................\n",
      "[CV] ............ solver=liblinear, C=3792.690190732246, total=   0.0s\n",
      "[CV] solver=liblinear, C=3792.690190732246 ...........................\n",
      "[CV] ............ solver=liblinear, C=3792.690190732246, total=   0.0s\n",
      "[CV] solver=liblinear, C=10000.0 .....................................\n",
      "[CV] ...................... solver=liblinear, C=10000.0, total=   0.0s\n",
      "[CV] solver=liblinear, C=10000.0 .....................................\n",
      "[CV] ...................... solver=liblinear, C=10000.0, total=   0.0s\n",
      "[CV] solver=liblinear, C=10000.0 .....................................\n",
      "[CV] ...................... solver=liblinear, C=10000.0, total=   0.0s\n",
      "[CV] solver=liblinear, C=10000.0 .....................................\n",
      "[CV] ...................... solver=liblinear, C=10000.0, total=   0.0s\n",
      "[CV] solver=liblinear, C=10000.0 .....................................\n",
      "[CV] ...................... solver=liblinear, C=10000.0, total=   0.0s\n"
     ]
    },
    {
     "name": "stderr",
     "output_type": "stream",
     "text": [
      "[Parallel(n_jobs=1)]: Done 100 out of 100 | elapsed:    0.4s finished\n"
     ]
    },
    {
     "data": {
      "text/plain": [
       "0.8852459016393442"
      ]
     },
     "execution_count": 149,
     "metadata": {},
     "output_type": "execute_result"
    }
   ],
   "source": [
    "rs_log_model.fit(X_train,y_train)\n",
    "rs_log_model.score(X_test,y_test)"
   ]
  },
  {
   "cell_type": "code",
   "execution_count": 150,
   "metadata": {},
   "outputs": [
    {
     "data": {
      "text/plain": [
       "{'solver': 'liblinear', 'C': 0.23357214690901212}"
      ]
     },
     "execution_count": 150,
     "metadata": {},
     "output_type": "execute_result"
    }
   ],
   "source": [
    "rs_log_model.best_params_\n",
    "#{'solver': 'liblinear', 'C': 0.23357214690901212}"
   ]
  },
  {
   "cell_type": "code",
   "execution_count": 151,
   "metadata": {},
   "outputs": [
    {
     "data": {
      "text/plain": [
       "{'n_estimators': 110,\n",
       " 'min_samples_split': 17,\n",
       " 'min_samples_leaf': 6,\n",
       " 'max_depth': 10}"
      ]
     },
     "execution_count": 151,
     "metadata": {},
     "output_type": "execute_result"
    }
   ],
   "source": [
    "rs_random_model.best_params_\n",
    "# {'n_estimators': 110,\n",
    "#  'min_samples_split': 17,\n",
    "#  'min_samples_leaf': 6,\n",
    "#  'max_depth': 10}"
   ]
  },
  {
   "cell_type": "markdown",
   "metadata": {},
   "source": [
    "## Tuning hyperparameters of Logistic Regression using GridSearchCV\n",
    "Since Logistic Regression provides the best score so far, we will try to further improve \n",
    "it using GridSearchCV"
   ]
  },
  {
   "cell_type": "code",
   "execution_count": 153,
   "metadata": {},
   "outputs": [],
   "source": [
    "GS_log_grid ={\"C\":np.logspace(-4,4,30),\n",
    "             \"solver\":[\"liblinear\"]}\n",
    "GS_log_model = GridSearchCV(estimator = log_reg,param_grid = GS_log_grid,\n",
    "                              cv=5,verbose =2)"
   ]
  },
  {
   "cell_type": "code",
   "execution_count": 154,
   "metadata": {},
   "outputs": [
    {
     "name": "stdout",
     "output_type": "stream",
     "text": [
      "Fitting 5 folds for each of 30 candidates, totalling 150 fits\n",
      "[CV] C=0.0001, solver=liblinear ......................................\n",
      "[CV] ....................... C=0.0001, solver=liblinear, total=   0.0s\n",
      "[CV] C=0.0001, solver=liblinear ......................................\n",
      "[CV] ....................... C=0.0001, solver=liblinear, total=   0.0s\n",
      "[CV] C=0.0001, solver=liblinear ......................................\n",
      "[CV] ....................... C=0.0001, solver=liblinear, total=   0.0s\n",
      "[CV] C=0.0001, solver=liblinear ......................................\n",
      "[CV] ....................... C=0.0001, solver=liblinear, total=   0.0s\n",
      "[CV] C=0.0001, solver=liblinear ......................................\n",
      "[CV] ....................... C=0.0001, solver=liblinear, total=   0.0s\n",
      "[CV] C=0.00018873918221350977, solver=liblinear ......................\n",
      "[CV] ....... C=0.00018873918221350977, solver=liblinear, total=   0.0s\n",
      "[CV] C=0.00018873918221350977, solver=liblinear ......................\n",
      "[CV] ....... C=0.00018873918221350977, solver=liblinear, total=   0.0s\n",
      "[CV] C=0.00018873918221350977, solver=liblinear ......................\n",
      "[CV] ....... C=0.00018873918221350977, solver=liblinear, total=   0.0s\n",
      "[CV] C=0.00018873918221350977, solver=liblinear ......................\n",
      "[CV] ....... C=0.00018873918221350977, solver=liblinear, total=   0.0s\n",
      "[CV] C=0.00018873918221350977, solver=liblinear ......................\n",
      "[CV] ....... C=0.00018873918221350977, solver=liblinear, total=   0.0s\n",
      "[CV] C=0.0003562247890262444, solver=liblinear .......................\n",
      "[CV] ........ C=0.0003562247890262444, solver=liblinear, total=   0.0s\n",
      "[CV] C=0.0003562247890262444, solver=liblinear .......................\n",
      "[CV] ........ C=0.0003562247890262444, solver=liblinear, total=   0.0s\n",
      "[CV] C=0.0003562247890262444, solver=liblinear .......................\n",
      "[CV] ........ C=0.0003562247890262444, solver=liblinear, total=   0.0s\n",
      "[CV] C=0.0003562247890262444, solver=liblinear .......................\n",
      "[CV] ........ C=0.0003562247890262444, solver=liblinear, total=   0.0s\n",
      "[CV] C=0.0003562247890262444, solver=liblinear .......................\n",
      "[CV] ........ C=0.0003562247890262444, solver=liblinear, total=   0.0s\n",
      "[CV] C=0.0006723357536499335, solver=liblinear .......................\n",
      "[CV] ........ C=0.0006723357536499335, solver=liblinear, total=   0.0s\n",
      "[CV] C=0.0006723357536499335, solver=liblinear .......................\n",
      "[CV] ........ C=0.0006723357536499335, solver=liblinear, total=   0.0s\n",
      "[CV] C=0.0006723357536499335, solver=liblinear .......................\n",
      "[CV] ........ C=0.0006723357536499335, solver=liblinear, total=   0.0s\n",
      "[CV] C=0.0006723357536499335, solver=liblinear .......................\n",
      "[CV] ........ C=0.0006723357536499335, solver=liblinear, total=   0.0s\n",
      "[CV] C=0.0006723357536499335, solver=liblinear .......................\n",
      "[CV] ........ C=0.0006723357536499335, solver=liblinear, total=   0.0s\n",
      "[CV] C=0.0012689610031679222, solver=liblinear .......................\n",
      "[CV] ........ C=0.0012689610031679222, solver=liblinear, total=   0.0s\n",
      "[CV] C=0.0012689610031679222, solver=liblinear .......................\n",
      "[CV] ........ C=0.0012689610031679222, solver=liblinear, total=   0.0s\n",
      "[CV] C=0.0012689610031679222, solver=liblinear .......................\n",
      "[CV] ........ C=0.0012689610031679222, solver=liblinear, total=   0.0s\n",
      "[CV] C=0.0012689610031679222, solver=liblinear .......................\n",
      "[CV] ........ C=0.0012689610031679222, solver=liblinear, total=   0.0s\n",
      "[CV] C=0.0012689610031679222, solver=liblinear .......................\n",
      "[CV] ........ C=0.0012689610031679222, solver=liblinear, total=   0.0s\n",
      "[CV] C=0.002395026619987486, solver=liblinear ........................\n",
      "[CV] ......... C=0.002395026619987486, solver=liblinear, total=   0.0s\n",
      "[CV] C=0.002395026619987486, solver=liblinear ........................\n",
      "[CV] ......... C=0.002395026619987486, solver=liblinear, total=   0.0s\n",
      "[CV] C=0.002395026619987486, solver=liblinear ........................\n",
      "[CV] ......... C=0.002395026619987486, solver=liblinear, total=   0.0s\n",
      "[CV] C=0.002395026619987486, solver=liblinear ........................\n",
      "[CV] ......... C=0.002395026619987486, solver=liblinear, total=   0.0s\n",
      "[CV] C=0.002395026619987486, solver=liblinear ........................\n",
      "[CV] ......... C=0.002395026619987486, solver=liblinear, total=   0.0s\n",
      "[CV] C=0.004520353656360241, solver=liblinear ........................\n",
      "[CV] ......... C=0.004520353656360241, solver=liblinear, total=   0.0s\n",
      "[CV] C=0.004520353656360241, solver=liblinear ........................\n",
      "[CV] ......... C=0.004520353656360241, solver=liblinear, total=   0.0s\n",
      "[CV] C=0.004520353656360241, solver=liblinear ........................\n",
      "[CV] ......... C=0.004520353656360241, solver=liblinear, total=   0.0s\n",
      "[CV] C=0.004520353656360241, solver=liblinear ........................\n",
      "[CV] ......... C=0.004520353656360241, solver=liblinear, total=   0.0s\n",
      "[CV] C=0.004520353656360241, solver=liblinear ........................\n",
      "[CV] ......... C=0.004520353656360241, solver=liblinear, total=   0.0s\n",
      "[CV] C=0.008531678524172805, solver=liblinear ........................\n",
      "[CV] ......... C=0.008531678524172805, solver=liblinear, total=   0.0s\n",
      "[CV] C=0.008531678524172805, solver=liblinear ........................\n",
      "[CV] ......... C=0.008531678524172805, solver=liblinear, total=   0.0s\n",
      "[CV] C=0.008531678524172805, solver=liblinear ........................"
     ]
    },
    {
     "name": "stderr",
     "output_type": "stream",
     "text": [
      "[Parallel(n_jobs=1)]: Using backend SequentialBackend with 1 concurrent workers.\n",
      "[Parallel(n_jobs=1)]: Done   1 out of   1 | elapsed:    0.0s remaining:    0.0s\n"
     ]
    },
    {
     "name": "stdout",
     "output_type": "stream",
     "text": [
      "\n",
      "[CV] ......... C=0.008531678524172805, solver=liblinear, total=   0.0s\n",
      "[CV] C=0.008531678524172805, solver=liblinear ........................\n",
      "[CV] ......... C=0.008531678524172805, solver=liblinear, total=   0.0s\n",
      "[CV] C=0.008531678524172805, solver=liblinear ........................\n",
      "[CV] ......... C=0.008531678524172805, solver=liblinear, total=   0.0s\n",
      "[CV] C=0.01610262027560939, solver=liblinear .........................\n",
      "[CV] .......... C=0.01610262027560939, solver=liblinear, total=   0.0s\n",
      "[CV] C=0.01610262027560939, solver=liblinear .........................\n",
      "[CV] .......... C=0.01610262027560939, solver=liblinear, total=   0.0s\n",
      "[CV] C=0.01610262027560939, solver=liblinear .........................\n",
      "[CV] .......... C=0.01610262027560939, solver=liblinear, total=   0.0s\n",
      "[CV] C=0.01610262027560939, solver=liblinear .........................\n",
      "[CV] .......... C=0.01610262027560939, solver=liblinear, total=   0.0s\n",
      "[CV] C=0.01610262027560939, solver=liblinear .........................\n",
      "[CV] .......... C=0.01610262027560939, solver=liblinear, total=   0.0s\n",
      "[CV] C=0.03039195382313198, solver=liblinear .........................\n",
      "[CV] .......... C=0.03039195382313198, solver=liblinear, total=   0.0s\n",
      "[CV] C=0.03039195382313198, solver=liblinear .........................\n",
      "[CV] .......... C=0.03039195382313198, solver=liblinear, total=   0.0s\n",
      "[CV] C=0.03039195382313198, solver=liblinear .........................\n",
      "[CV] .......... C=0.03039195382313198, solver=liblinear, total=   0.0s\n",
      "[CV] C=0.03039195382313198, solver=liblinear .........................\n",
      "[CV] .......... C=0.03039195382313198, solver=liblinear, total=   0.0s\n",
      "[CV] C=0.03039195382313198, solver=liblinear .........................\n",
      "[CV] .......... C=0.03039195382313198, solver=liblinear, total=   0.0s\n",
      "[CV] C=0.05736152510448681, solver=liblinear .........................\n",
      "[CV] .......... C=0.05736152510448681, solver=liblinear, total=   0.0s\n",
      "[CV] C=0.05736152510448681, solver=liblinear .........................\n",
      "[CV] .......... C=0.05736152510448681, solver=liblinear, total=   0.0s\n",
      "[CV] C=0.05736152510448681, solver=liblinear .........................\n",
      "[CV] .......... C=0.05736152510448681, solver=liblinear, total=   0.0s\n",
      "[CV] C=0.05736152510448681, solver=liblinear .........................\n",
      "[CV] .......... C=0.05736152510448681, solver=liblinear, total=   0.0s\n",
      "[CV] C=0.05736152510448681, solver=liblinear .........................\n",
      "[CV] .......... C=0.05736152510448681, solver=liblinear, total=   0.0s\n",
      "[CV] C=0.1082636733874054, solver=liblinear ..........................\n",
      "[CV] ........... C=0.1082636733874054, solver=liblinear, total=   0.0s\n",
      "[CV] C=0.1082636733874054, solver=liblinear ..........................\n",
      "[CV] ........... C=0.1082636733874054, solver=liblinear, total=   0.0s\n",
      "[CV] C=0.1082636733874054, solver=liblinear ..........................\n",
      "[CV] ........... C=0.1082636733874054, solver=liblinear, total=   0.0s\n",
      "[CV] C=0.1082636733874054, solver=liblinear ..........................\n",
      "[CV] ........... C=0.1082636733874054, solver=liblinear, total=   0.0s\n",
      "[CV] C=0.1082636733874054, solver=liblinear ..........................\n",
      "[CV] ........... C=0.1082636733874054, solver=liblinear, total=   0.0s\n",
      "[CV] C=0.20433597178569418, solver=liblinear .........................\n",
      "[CV] .......... C=0.20433597178569418, solver=liblinear, total=   0.0s\n",
      "[CV] C=0.20433597178569418, solver=liblinear .........................\n",
      "[CV] .......... C=0.20433597178569418, solver=liblinear, total=   0.0s\n",
      "[CV] C=0.20433597178569418, solver=liblinear .........................\n",
      "[CV] .......... C=0.20433597178569418, solver=liblinear, total=   0.0s\n",
      "[CV] C=0.20433597178569418, solver=liblinear .........................\n",
      "[CV] .......... C=0.20433597178569418, solver=liblinear, total=   0.0s\n",
      "[CV] C=0.20433597178569418, solver=liblinear .........................\n",
      "[CV] .......... C=0.20433597178569418, solver=liblinear, total=   0.0s\n",
      "[CV] C=0.38566204211634725, solver=liblinear .........................\n",
      "[CV] .......... C=0.38566204211634725, solver=liblinear, total=   0.0s\n",
      "[CV] C=0.38566204211634725, solver=liblinear .........................\n",
      "[CV] .......... C=0.38566204211634725, solver=liblinear, total=   0.0s\n",
      "[CV] C=0.38566204211634725, solver=liblinear .........................\n",
      "[CV] .......... C=0.38566204211634725, solver=liblinear, total=   0.0s\n",
      "[CV] C=0.38566204211634725, solver=liblinear .........................\n",
      "[CV] .......... C=0.38566204211634725, solver=liblinear, total=   0.0s\n",
      "[CV] C=0.38566204211634725, solver=liblinear .........................\n",
      "[CV] .......... C=0.38566204211634725, solver=liblinear, total=   0.0s\n",
      "[CV] C=0.7278953843983146, solver=liblinear ..........................\n",
      "[CV] ........... C=0.7278953843983146, solver=liblinear, total=   0.0s\n",
      "[CV] C=0.7278953843983146, solver=liblinear ..........................\n",
      "[CV] ........... C=0.7278953843983146, solver=liblinear, total=   0.0s\n",
      "[CV] C=0.7278953843983146, solver=liblinear ..........................\n",
      "[CV] ........... C=0.7278953843983146, solver=liblinear, total=   0.0s\n",
      "[CV] C=0.7278953843983146, solver=liblinear ..........................\n",
      "[CV] ........... C=0.7278953843983146, solver=liblinear, total=   0.0s\n",
      "[CV] C=0.7278953843983146, solver=liblinear ..........................\n",
      "[CV] ........... C=0.7278953843983146, solver=liblinear, total=   0.0s\n",
      "[CV] C=1.3738237958832638, solver=liblinear ..........................\n",
      "[CV] ........... C=1.3738237958832638, solver=liblinear, total=   0.0s\n",
      "[CV] C=1.3738237958832638, solver=liblinear ..........................\n",
      "[CV] ........... C=1.3738237958832638, solver=liblinear, total=   0.0s\n",
      "[CV] C=1.3738237958832638, solver=liblinear ..........................\n",
      "[CV] ........... C=1.3738237958832638, solver=liblinear, total=   0.0s\n",
      "[CV] C=1.3738237958832638, solver=liblinear ..........................\n",
      "[CV] ........... C=1.3738237958832638, solver=liblinear, total=   0.0s\n",
      "[CV] C=1.3738237958832638, solver=liblinear ..........................\n",
      "[CV] ........... C=1.3738237958832638, solver=liblinear, total=   0.0s\n",
      "[CV] C=2.592943797404667, solver=liblinear ...........................\n",
      "[CV] ............ C=2.592943797404667, solver=liblinear, total=   0.0s\n",
      "[CV] C=2.592943797404667, solver=liblinear ...........................\n",
      "[CV] ............ C=2.592943797404667, solver=liblinear, total=   0.0s\n",
      "[CV] C=2.592943797404667, solver=liblinear ...........................\n",
      "[CV] ............ C=2.592943797404667, solver=liblinear, total=   0.0s\n",
      "[CV] C=2.592943797404667, solver=liblinear ...........................\n",
      "[CV] ............ C=2.592943797404667, solver=liblinear, total=   0.0s\n",
      "[CV] C=2.592943797404667, solver=liblinear ...........................\n",
      "[CV] ............ C=2.592943797404667, solver=liblinear, total=   0.0s\n",
      "[CV] C=4.893900918477489, solver=liblinear ...........................\n",
      "[CV] ............ C=4.893900918477489, solver=liblinear, total=   0.0s\n",
      "[CV] C=4.893900918477489, solver=liblinear ...........................\n",
      "[CV] ............ C=4.893900918477489, solver=liblinear, total=   0.0s\n",
      "[CV] C=4.893900918477489, solver=liblinear ...........................\n",
      "[CV] ............ C=4.893900918477489, solver=liblinear, total=   0.0s\n",
      "[CV] C=4.893900918477489, solver=liblinear ...........................\n",
      "[CV] ............ C=4.893900918477489, solver=liblinear, total=   0.0s\n",
      "[CV] C=4.893900918477489, solver=liblinear ...........................\n",
      "[CV] ............ C=4.893900918477489, solver=liblinear, total=   0.0s\n",
      "[CV] C=9.236708571873866, solver=liblinear ...........................\n",
      "[CV] ............ C=9.236708571873866, solver=liblinear, total=   0.0s\n",
      "[CV] C=9.236708571873866, solver=liblinear ...........................\n",
      "[CV] ............ C=9.236708571873866, solver=liblinear, total=   0.0s\n",
      "[CV] C=9.236708571873866, solver=liblinear ...........................\n",
      "[CV] ............ C=9.236708571873866, solver=liblinear, total=   0.0s\n",
      "[CV] C=9.236708571873866, solver=liblinear ...........................\n",
      "[CV] ............ C=9.236708571873866, solver=liblinear, total=   0.0s\n",
      "[CV] C=9.236708571873866, solver=liblinear ...........................\n",
      "[CV] ............ C=9.236708571873866, solver=liblinear, total=   0.0s\n",
      "[CV] C=17.433288221999874, solver=liblinear ..........................\n",
      "[CV] ........... C=17.433288221999874, solver=liblinear, total=   0.0s\n",
      "[CV] C=17.433288221999874, solver=liblinear ..........................\n",
      "[CV] ........... C=17.433288221999874, solver=liblinear, total=   0.0s\n",
      "[CV] C=17.433288221999874, solver=liblinear ..........................\n",
      "[CV] ........... C=17.433288221999874, solver=liblinear, total=   0.0s\n",
      "[CV] C=17.433288221999874, solver=liblinear ..........................\n",
      "[CV] ........... C=17.433288221999874, solver=liblinear, total=   0.0s\n",
      "[CV] C=17.433288221999874, solver=liblinear ..........................\n",
      "[CV] ........... C=17.433288221999874, solver=liblinear, total=   0.0s\n",
      "[CV] C=32.90344562312671, solver=liblinear ...........................\n",
      "[CV] ............ C=32.90344562312671, solver=liblinear, total=   0.0s\n",
      "[CV] C=32.90344562312671, solver=liblinear ...........................\n",
      "[CV] ............ C=32.90344562312671, solver=liblinear, total=   0.0s\n",
      "[CV] C=32.90344562312671, solver=liblinear ...........................\n",
      "[CV] ............ C=32.90344562312671, solver=liblinear, total=   0.0s\n",
      "[CV] C=32.90344562312671, solver=liblinear ...........................\n",
      "[CV] ............ C=32.90344562312671, solver=liblinear, total=   0.0s\n",
      "[CV] C=32.90344562312671, solver=liblinear ...........................\n",
      "[CV] ............ C=32.90344562312671, solver=liblinear, total=   0.0s\n",
      "[CV] C=62.10169418915616, solver=liblinear ...........................\n",
      "[CV] ............ C=62.10169418915616, solver=liblinear, total=   0.0s\n",
      "[CV] C=62.10169418915616, solver=liblinear ...........................\n",
      "[CV] ............ C=62.10169418915616, solver=liblinear, total=   0.0s\n",
      "[CV] C=62.10169418915616, solver=liblinear ...........................\n",
      "[CV] ............ C=62.10169418915616, solver=liblinear, total=   0.0s\n",
      "[CV] C=62.10169418915616, solver=liblinear ...........................\n",
      "[CV] ............ C=62.10169418915616, solver=liblinear, total=   0.0s\n",
      "[CV] C=62.10169418915616, solver=liblinear ...........................\n",
      "[CV] ............ C=62.10169418915616, solver=liblinear, total=   0.0s\n",
      "[CV] C=117.21022975334793, solver=liblinear ..........................\n",
      "[CV] ........... C=117.21022975334793, solver=liblinear, total=   0.0s\n",
      "[CV] C=117.21022975334793, solver=liblinear ..........................\n"
     ]
    },
    {
     "name": "stdout",
     "output_type": "stream",
     "text": [
      "[CV] ........... C=117.21022975334793, solver=liblinear, total=   0.0s\n",
      "[CV] C=117.21022975334793, solver=liblinear ..........................\n",
      "[CV] ........... C=117.21022975334793, solver=liblinear, total=   0.0s\n",
      "[CV] C=117.21022975334793, solver=liblinear ..........................\n",
      "[CV] ........... C=117.21022975334793, solver=liblinear, total=   0.0s\n",
      "[CV] C=117.21022975334793, solver=liblinear ..........................\n",
      "[CV] ........... C=117.21022975334793, solver=liblinear, total=   0.0s\n",
      "[CV] C=221.22162910704503, solver=liblinear ..........................\n",
      "[CV] ........... C=221.22162910704503, solver=liblinear, total=   0.0s\n",
      "[CV] C=221.22162910704503, solver=liblinear ..........................\n",
      "[CV] ........... C=221.22162910704503, solver=liblinear, total=   0.0s\n",
      "[CV] C=221.22162910704503, solver=liblinear ..........................\n",
      "[CV] ........... C=221.22162910704503, solver=liblinear, total=   0.0s\n",
      "[CV] C=221.22162910704503, solver=liblinear ..........................\n",
      "[CV] ........... C=221.22162910704503, solver=liblinear, total=   0.0s\n",
      "[CV] C=221.22162910704503, solver=liblinear ..........................\n",
      "[CV] ........... C=221.22162910704503, solver=liblinear, total=   0.0s\n",
      "[CV] C=417.53189365604004, solver=liblinear ..........................\n",
      "[CV] ........... C=417.53189365604004, solver=liblinear, total=   0.0s\n",
      "[CV] C=417.53189365604004, solver=liblinear ..........................\n",
      "[CV] ........... C=417.53189365604004, solver=liblinear, total=   0.0s\n",
      "[CV] C=417.53189365604004, solver=liblinear ..........................\n",
      "[CV] ........... C=417.53189365604004, solver=liblinear, total=   0.0s\n",
      "[CV] C=417.53189365604004, solver=liblinear ..........................\n",
      "[CV] ........... C=417.53189365604004, solver=liblinear, total=   0.0s\n",
      "[CV] C=417.53189365604004, solver=liblinear ..........................\n",
      "[CV] ........... C=417.53189365604004, solver=liblinear, total=   0.0s\n",
      "[CV] C=788.0462815669904, solver=liblinear ...........................\n",
      "[CV] ............ C=788.0462815669904, solver=liblinear, total=   0.0s\n",
      "[CV] C=788.0462815669904, solver=liblinear ...........................\n",
      "[CV] ............ C=788.0462815669904, solver=liblinear, total=   0.0s\n",
      "[CV] C=788.0462815669904, solver=liblinear ...........................\n",
      "[CV] ............ C=788.0462815669904, solver=liblinear, total=   0.0s\n",
      "[CV] C=788.0462815669904, solver=liblinear ...........................\n",
      "[CV] ............ C=788.0462815669904, solver=liblinear, total=   0.0s\n",
      "[CV] C=788.0462815669904, solver=liblinear ...........................\n",
      "[CV] ............ C=788.0462815669904, solver=liblinear, total=   0.0s\n",
      "[CV] C=1487.3521072935118, solver=liblinear ..........................\n",
      "[CV] ........... C=1487.3521072935118, solver=liblinear, total=   0.0s\n",
      "[CV] C=1487.3521072935118, solver=liblinear ..........................\n",
      "[CV] ........... C=1487.3521072935118, solver=liblinear, total=   0.0s\n",
      "[CV] C=1487.3521072935118, solver=liblinear ..........................\n",
      "[CV] ........... C=1487.3521072935118, solver=liblinear, total=   0.0s\n",
      "[CV] C=1487.3521072935118, solver=liblinear ..........................\n",
      "[CV] ........... C=1487.3521072935118, solver=liblinear, total=   0.0s\n",
      "[CV] C=1487.3521072935118, solver=liblinear ..........................\n",
      "[CV] ........... C=1487.3521072935118, solver=liblinear, total=   0.0s\n",
      "[CV] C=2807.2162039411755, solver=liblinear ..........................\n",
      "[CV] ........... C=2807.2162039411755, solver=liblinear, total=   0.0s\n",
      "[CV] C=2807.2162039411755, solver=liblinear ..........................\n",
      "[CV] ........... C=2807.2162039411755, solver=liblinear, total=   0.0s\n",
      "[CV] C=2807.2162039411755, solver=liblinear ..........................\n",
      "[CV] ........... C=2807.2162039411755, solver=liblinear, total=   0.0s\n",
      "[CV] C=2807.2162039411755, solver=liblinear ..........................\n",
      "[CV] ........... C=2807.2162039411755, solver=liblinear, total=   0.0s\n",
      "[CV] C=2807.2162039411755, solver=liblinear ..........................\n",
      "[CV] ........... C=2807.2162039411755, solver=liblinear, total=   0.0s\n",
      "[CV] C=5298.316906283702, solver=liblinear ...........................\n",
      "[CV] ............ C=5298.316906283702, solver=liblinear, total=   0.0s\n",
      "[CV] C=5298.316906283702, solver=liblinear ...........................\n",
      "[CV] ............ C=5298.316906283702, solver=liblinear, total=   0.0s\n",
      "[CV] C=5298.316906283702, solver=liblinear ...........................\n",
      "[CV] ............ C=5298.316906283702, solver=liblinear, total=   0.0s\n",
      "[CV] C=5298.316906283702, solver=liblinear ...........................\n",
      "[CV] ............ C=5298.316906283702, solver=liblinear, total=   0.0s\n",
      "[CV] C=5298.316906283702, solver=liblinear ...........................\n",
      "[CV] ............ C=5298.316906283702, solver=liblinear, total=   0.0s\n",
      "[CV] C=10000.0, solver=liblinear .....................................\n",
      "[CV] ...................... C=10000.0, solver=liblinear, total=   0.0s\n",
      "[CV] C=10000.0, solver=liblinear .....................................\n",
      "[CV] ...................... C=10000.0, solver=liblinear, total=   0.0s\n",
      "[CV] C=10000.0, solver=liblinear .....................................\n",
      "[CV] ...................... C=10000.0, solver=liblinear, total=   0.0s\n",
      "[CV] C=10000.0, solver=liblinear .....................................\n",
      "[CV] ...................... C=10000.0, solver=liblinear, total=   0.0s\n",
      "[CV] C=10000.0, solver=liblinear .....................................\n",
      "[CV] ...................... C=10000.0, solver=liblinear, total=   0.0s\n"
     ]
    },
    {
     "name": "stderr",
     "output_type": "stream",
     "text": [
      "[Parallel(n_jobs=1)]: Done 150 out of 150 | elapsed:    0.6s finished\n"
     ]
    },
    {
     "data": {
      "text/plain": [
       "0.8852459016393442"
      ]
     },
     "execution_count": 154,
     "metadata": {},
     "output_type": "execute_result"
    }
   ],
   "source": [
    "GS_log_model.fit(X_train,y_train)"
   ]
  },
  {
   "cell_type": "code",
   "execution_count": 244,
   "metadata": {},
   "outputs": [
    {
     "data": {
      "text/plain": [
       "0.8852459016393442"
      ]
     },
     "execution_count": 244,
     "metadata": {},
     "output_type": "execute_result"
    }
   ],
   "source": [
    "GS_log_model.score(X_test,y_test)"
   ]
  },
  {
   "cell_type": "code",
   "execution_count": 245,
   "metadata": {},
   "outputs": [
    {
     "data": {
      "text/plain": [
       "{'C': 0.20433597178569418, 'solver': 'liblinear'}"
      ]
     },
     "execution_count": 245,
     "metadata": {},
     "output_type": "execute_result"
    }
   ],
   "source": [
    "GS_log_model.best_params_"
   ]
  },
  {
   "cell_type": "code",
   "execution_count": 157,
   "metadata": {},
   "outputs": [
    {
     "data": {
      "text/plain": [
       "{'Logistic Regression': 88.52,\n",
       " 'K Nearest Neighbors': 68.85,\n",
       " 'Random Forest Classifier': 83.61}"
      ]
     },
     "execution_count": 157,
     "metadata": {},
     "output_type": "execute_result"
    }
   ],
   "source": [
    "model_scores"
   ]
  },
  {
   "cell_type": "markdown",
   "metadata": {},
   "source": [
    "## Evaluating the tuned machine learning classification beyond accuracy"
   ]
  },
  {
   "cell_type": "code",
   "execution_count": 161,
   "metadata": {},
   "outputs": [
    {
     "data": {
      "image/png": "[encoded data removed]",
      "text/plain": [
       "<Figure size 432x288 with 1 Axes>"
      ]
     },
     "metadata": {
      "needs_background": "light"
     },
     "output_type": "display_data"
    }
   ],
   "source": [
    "##Make predictions on tuned model\n",
    "y_preds = GS_log_model.predict(X_test)\n",
    "plot_roc_curve(GS_log_model,X_test,y_test);"
   ]
  },
  {
   "cell_type": "code",
   "execution_count": 162,
   "metadata": {},
   "outputs": [
    {
     "data": {
      "text/plain": [
       "array([[25,  4],\n",
       "       [ 3, 29]], dtype=int64)"
      ]
     },
     "execution_count": 162,
     "metadata": {},
     "output_type": "execute_result"
    }
   ],
   "source": [
    "confusion_matrix(y_test,y_preds)"
   ]
  },
  {
   "cell_type": "code",
   "execution_count": 164,
   "metadata": {},
   "outputs": [
    {
     "data": {
      "text/plain": [
       "<sklearn.metrics._plot.confusion_matrix.ConfusionMatrixDisplay at 0x251aec84af0>"
      ]
     },
     "execution_count": 164,
     "metadata": {},
     "output_type": "execute_result"
    },
    {
     "data": {
      "image/png": "[encoded data removed]",
      "text/plain": [
       "<Figure size 432x288 with 2 Axes>"
      ]
     },
     "metadata": {
      "needs_background": "light"
     },
     "output_type": "display_data"
    }
   ],
   "source": [
    "from sklearn.metrics import plot_confusion_matrix\n",
    "plot_confusion_matrix(GS_log_model,X_test,y_test)"
   ]
  },
  {
   "cell_type": "code",
   "execution_count": 165,
   "metadata": {},
   "outputs": [
    {
     "name": "stdout",
     "output_type": "stream",
     "text": [
      "              precision    recall  f1-score   support\n",
      "\n",
      "           0       0.89      0.86      0.88        29\n",
      "           1       0.88      0.91      0.89        32\n",
      "\n",
      "    accuracy                           0.89        61\n",
      "   macro avg       0.89      0.88      0.88        61\n",
      "weighted avg       0.89      0.89      0.89        61\n",
      "\n"
     ]
    }
   ],
   "source": [
    "print(classification_report(y_test,y_preds))"
   ]
  },
  {
   "cell_type": "code",
   "execution_count": 246,
   "metadata": {},
   "outputs": [],
   "source": [
    "clf = LogisticRegression(C=0.20433597178569418, solver='liblinear')\n",
    "cv_prec = np.mean(cross_val_score(clf,X,y,scoring = \"precision\",cv = 5))"
   ]
  },
  {
   "cell_type": "code",
   "execution_count": 247,
   "metadata": {},
   "outputs": [],
   "source": [
    "cv_acc = np.mean(cross_val_score(clf,X,y,scoring = \"accuracy\",cv = 5))"
   ]
  },
  {
   "cell_type": "code",
   "execution_count": 248,
   "metadata": {},
   "outputs": [],
   "source": [
    "cv_recall=np.mean(cross_val_score(clf,X,y,scoring = \"recall\",cv = 5))"
   ]
  },
  {
   "cell_type": "code",
   "execution_count": 249,
   "metadata": {},
   "outputs": [
    {
     "data": {
      "text/plain": [
       "0.8673007976269721"
      ]
     },
     "execution_count": 249,
     "metadata": {},
     "output_type": "execute_result"
    }
   ],
   "source": [
    "cv_f1 = np.mean(cross_val_score(clf,X,y,scoring = \"f1\",cv = 5))\n",
    "cv_f1"
   ]
  },
  {
   "cell_type": "code",
   "execution_count": 282,
   "metadata": {},
   "outputs": [
    {
     "data": {
      "text/html": [
       "<div>\n",
       "<style scoped>\n",
       "    .dataframe tbody tr th:only-of-type {\n",
       "        vertical-align: middle;\n",
       "    }\n",
       "\n",
       "    .dataframe tbody tr th {\n",
       "        vertical-align: top;\n",
       "    }\n",
       "\n",
       "    .dataframe thead th {\n",
       "        text-align: right;\n",
       "    }\n",
       "</style>\n",
       "<table border=\"1\" class=\"dataframe\">\n",
       "  <thead>\n",
       "    <tr style=\"text-align: right;\">\n",
       "      <th></th>\n",
       "      <th>Score</th>\n",
       "      <th>Metric</th>\n",
       "    </tr>\n",
       "  </thead>\n",
       "  <tbody>\n",
       "    <tr>\n",
       "      <th>0</th>\n",
       "      <td>0.84</td>\n",
       "      <td>Accuracy</td>\n",
       "    </tr>\n",
       "    <tr>\n",
       "      <th>1</th>\n",
       "      <td>0.82</td>\n",
       "      <td>Precision</td>\n",
       "    </tr>\n",
       "    <tr>\n",
       "      <th>2</th>\n",
       "      <td>0.92</td>\n",
       "      <td>Recall</td>\n",
       "    </tr>\n",
       "    <tr>\n",
       "      <th>3</th>\n",
       "      <td>0.87</td>\n",
       "      <td>F1</td>\n",
       "    </tr>\n",
       "  </tbody>\n",
       "</table>\n",
       "</div>"
      ],
      "text/plain": [
       "   Score     Metric\n",
       "0   0.84   Accuracy\n",
       "1   0.82  Precision\n",
       "2   0.92     Recall\n",
       "3   0.87         F1"
      ]
     },
     "execution_count": 282,
     "metadata": {},
     "output_type": "execute_result"
    }
   ],
   "source": [
    "cv_metrics = pd.DataFrame({\"Accuracy\":cv_acc,\n",
    "                          \"Precision\":cv_prec,\n",
    "                          \"Recall\":cv_recall,\n",
    "                          \"F1\":cv_f1},index =[0])\n",
    "cv_metrics_T = pd.DataFrame(cv_metrics.T)\n",
    "cv_metrics_T.reset_index(drop = True,inplace = True)\n",
    "cv_metrics_T[\"Metric\"] = [\"Accuracy\",\"Precision\",\"Recall\",\"F1\"]\n",
    "cv_metrics_T.rename(columns ={0:'Score'},inplace  = True)\n",
    "cv_metrics_T.Score = round(cv_metrics_T.Score,2)\n",
    "cv_metrics_T"
   ]
  },
  {
   "cell_type": "code",
   "execution_count": 286,
   "metadata": {},
   "outputs": [
    {
     "data": {
      "image/png": "[encoded data removed]",
      "text/plain": [
       "<Figure size 720x720 with 1 Axes>"
      ]
     },
     "metadata": {
      "needs_background": "light"
     },
     "output_type": "display_data"
    }
   ],
   "source": [
    "cv_metrics.T.plot.bar(title = \"Cross Validation Metrics\", legend = False,figsize =(10,10))       \n",
    "for i in range(len(cv_metrics_T)):\n",
    "    plt.text(i,cv_metrics_T.Score[i]+0.01,str(cv_metrics_T.Score[i]))"
   ]
  },
  {
   "cell_type": "markdown",
   "metadata": {},
   "source": [
    "## Feature Importance\n",
    "\n",
    "Finding feature importance varies for different machine learning models\n",
    "\n",
    "Finding feature importance for Logistic Regression model"
   ]
  },
  {
   "cell_type": "code",
   "execution_count": 288,
   "metadata": {},
   "outputs": [
    {
     "data": {
      "text/plain": [
       "LogisticRegression(C=0.20433597178569418, class_weight=None, dual=False,\n",
       "                   fit_intercept=True, intercept_scaling=1, l1_ratio=None,\n",
       "                   max_iter=100, multi_class='auto', n_jobs=None, penalty='l2',\n",
       "                   random_state=None, solver='liblinear', tol=0.0001, verbose=0,\n",
       "                   warm_start=False)"
      ]
     },
     "execution_count": 288,
     "metadata": {},
     "output_type": "execute_result"
    }
   ],
   "source": [
    "clf = LogisticRegression(C=0.20433597178569418, solver='liblinear')\n",
    "clf.fit(X_train,y_train)"
   ]
  },
  {
   "cell_type": "code",
   "execution_count": 289,
   "metadata": {},
   "outputs": [
    {
     "data": {
      "text/plain": [
       "array([[ 0.00316728, -0.86044651,  0.66067041, -0.01156993, -0.00166374,\n",
       "         0.04386107,  0.31275847,  0.02459361, -0.6041308 , -0.56862804,\n",
       "         0.45051628, -0.63609897, -0.67663373]])"
      ]
     },
     "execution_count": 289,
     "metadata": {},
     "output_type": "execute_result"
    }
   ],
   "source": [
    "##Check coefficient\n",
    "clf.coef_"
   ]
  },
  {
   "cell_type": "code",
   "execution_count": 294,
   "metadata": {},
   "outputs": [
    {
     "data": {
      "text/plain": [
       "{'age': 0.0031672801993431563,\n",
       " 'sex': -0.8604465072345515,\n",
       " 'cp': 0.6606704082033799,\n",
       " 'trestbps': -0.01156993168080875,\n",
       " 'chol': -0.001663744504776871,\n",
       " 'fbs': 0.043861071652469864,\n",
       " 'restecg': 0.31275846822418324,\n",
       " 'thalach': 0.024593613737779126,\n",
       " 'exang': -0.6041308000615746,\n",
       " 'oldpeak': -0.5686280368396555,\n",
       " 'slope': 0.4505162797258308,\n",
       " 'ca': -0.6360989676086223,\n",
       " 'thal': -0.6766337263029825}"
      ]
     },
     "execution_count": 294,
     "metadata": {},
     "output_type": "execute_result"
    }
   ],
   "source": [
    "feature_dict = dict(zip(df.columns,list(clf.coef_[0])))\n",
    "feature_dict"
   ]
  },
  {
   "cell_type": "code",
   "execution_count": 302,
   "metadata": {},
   "outputs": [
    {
     "data": {
      "image/png": "[encoded data removed]",
      "text/plain": [
       "<Figure size 720x720 with 1 Axes>"
      ]
     },
     "metadata": {
      "needs_background": "light"
     },
     "output_type": "display_data"
    }
   ],
   "source": [
    "feature_coeff = pd.DataFrame(feature_dict,index =[0])\n",
    "feature_coeff_T = pd.DataFrame(feature_coeff.T)\n",
    "feature_coeff_T.reset_index(inplace = True)\n",
    "feature_coeff_T.rename(columns ={index:\"Feature\",0:\"Coefficient\"},inplace  = True)\n",
    "feature_coeff_T.Coefficient = round(feature_coeff_T.Coefficient,2)\n",
    "feature_coeff.T.plot.bar(title = \"Feature Importance\", legend = False,figsize =(10,10))       \n",
    "for i in range(len(feature_coeff_T)):\n",
    "    plt.text(i,feature_coeff_T.Coefficient[i]+0.01,str(feature_coeff_T.Coefficient[i]))"
   ]
  },
  {
   "cell_type": "markdown",
   "metadata": {},
   "source": [
    "## 6. Experimentation\n",
    "\n",
    "If evaluation metric of 95% not reached, what else can be done?\n",
    "1. Can we collet more data\n",
    "2. Can we try a different model? - Like CatBoost or XGBoost\n",
    "3. Could we improve current models?\n",
    "4. Can we reduce features based on feature importance?\n",
    "\n",
    "If model is good enough, export using joblib library"
   ]
  },
  {
   "cell_type": "code",
   "execution_count": 305,
   "metadata": {},
   "outputs": [
    {
     "data": {
      "text/plain": [
       "['Heart_Disease_Logistic_regression.joblib']"
      ]
     },
     "execution_count": 305,
     "metadata": {},
     "output_type": "execute_result"
    }
   ],
   "source": [
    "from joblib import dump,load\n",
    "dump(clf,\"Heart_Disease_Logistic_regression.joblib\")"
   ]
  }
 ],
 "metadata": {
  "kernelspec": {
   "display_name": "Python 3",
   "language": "python",
   "name": "python3"
  },
  "language_info": {
   "codemirror_mode": {
    "name": "ipython",
    "version": 3
   },
   "file_extension": ".py",
   "mimetype": "text/x-python",
   "name": "python",
   "nbconvert_exporter": "python",
   "pygments_lexer": "ipython3",
   "version": "3.8.2"
  }
 },
 "nbformat": 4,
 "nbformat_minor": 4
}
